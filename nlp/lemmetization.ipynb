{
 "cells": [
  {
   "cell_type": "markdown",
   "id": "edb83d25-77fb-49c7-92a3-bad2101eabb7",
   "metadata": {},
   "source": [
    "### Wordnet lemmatizer"
   ]
  },
  {
   "cell_type": "code",
   "execution_count": 1,
   "id": "0fd2c1df-3929-42a0-badd-35649d72dd72",
   "metadata": {},
   "outputs": [],
   "source": [
    "##output we get from lemmatizer is called lemma which is a root word"
   ]
  },
  {
   "cell_type": "code",
   "execution_count": 2,
   "id": "0e950132-9dff-4ff8-8d06-3d394323a805",
   "metadata": {},
   "outputs": [],
   "source": [
    "from nltk.stem import WordNetLemmatizer"
   ]
  },
  {
   "cell_type": "code",
   "execution_count": 3,
   "id": "4da85e7d-3b68-43bf-a6c1-a1f92c4c764d",
   "metadata": {},
   "outputs": [],
   "source": [
    "lemmatizer = WordNetLemmatizer()"
   ]
  },
  {
   "cell_type": "code",
   "execution_count": 8,
   "id": "93749a9f-02b7-46e9-8155-204075d403a8",
   "metadata": {},
   "outputs": [
    {
     "data": {
      "text/plain": [
       "'going'"
      ]
     },
     "execution_count": 8,
     "metadata": {},
     "output_type": "execute_result"
    }
   ],
   "source": [
    "'''\n",
    "POS \n",
    "noun - n,\n",
    "verb -v\n",
    "adjective -a\n",
    "adverb -r\n",
    "\n",
    "'''\n",
    "\n",
    "lemmatizer.lemmatize(\"going\", pos = 'n')\n",
    "# another param is postag , which is by default n : noun , these are the parts of speech here"
   ]
  },
  {
   "cell_type": "code",
   "execution_count": 9,
   "id": "7efe1edc-82b1-472b-86ed-479030ed6271",
   "metadata": {},
   "outputs": [
    {
     "data": {
      "text/plain": [
       "'go'"
      ]
     },
     "execution_count": 9,
     "metadata": {},
     "output_type": "execute_result"
    }
   ],
   "source": [
    "lemmatizer.lemmatize(\"going\", pos = 'v')"
   ]
  },
  {
   "cell_type": "code",
   "execution_count": 10,
   "id": "e7f4487e-0285-44ca-a55c-ea42fa98e3cd",
   "metadata": {},
   "outputs": [],
   "source": [
    "words  = [\"eating\",\"eats\",\"writing\",\"writes\",\"programming\", \"programs\",\"history\"]"
   ]
  },
  {
   "cell_type": "code",
   "execution_count": 17,
   "id": "2d77e274-5ed5-4728-b185-504e8a8d1f7c",
   "metadata": {},
   "outputs": [
    {
     "name": "stdout",
     "output_type": "stream",
     "text": [
      "eating ::::::::::::lemmatize form is:::::::::::::::eat\n",
      "eats ::::::::::::lemmatize form is:::::::::::::::eat\n",
      "writing ::::::::::::lemmatize form is:::::::::::::::write\n",
      "writes ::::::::::::lemmatize form is:::::::::::::::write\n",
      "programming ::::::::::::lemmatize form is:::::::::::::::program\n",
      "programs ::::::::::::lemmatize form is:::::::::::::::program\n",
      "history ::::::::::::lemmatize form is:::::::::::::::history\n"
     ]
    }
   ],
   "source": [
    "for word in words:\n",
    "    print(word+\" ::::::::::::lemmatize form is:::::::::::::::\"+lemmatizer.lemmatize(word,pos = 'v'))"
   ]
  },
  {
   "cell_type": "code",
   "execution_count": 18,
   "id": "1d42bf8c-8336-4308-889e-fa16c9283781",
   "metadata": {},
   "outputs": [],
   "source": [
    "#Lemmatizer is slow comparively more time taken"
   ]
  },
  {
   "cell_type": "code",
   "execution_count": null,
   "id": "399b4c6d-06a4-40fb-93b2-fcb052ec61ed",
   "metadata": {},
   "outputs": [],
   "source": []
  },
  {
   "cell_type": "code",
   "execution_count": null,
   "id": "8b651833-8e61-4caa-bc05-509150ef28da",
   "metadata": {},
   "outputs": [],
   "source": []
  }
 ],
 "metadata": {
  "kernelspec": {
   "display_name": "Python 3 (ipykernel)",
   "language": "python",
   "name": "python3"
  },
  "language_info": {
   "codemirror_mode": {
    "name": "ipython",
    "version": 3
   },
   "file_extension": ".py",
   "mimetype": "text/x-python",
   "name": "python",
   "nbconvert_exporter": "python",
   "pygments_lexer": "ipython3",
   "version": "3.12.4"
  }
 },
 "nbformat": 4,
 "nbformat_minor": 5
}
