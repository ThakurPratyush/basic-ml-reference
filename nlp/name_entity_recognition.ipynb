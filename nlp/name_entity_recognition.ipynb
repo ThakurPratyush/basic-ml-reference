{
 "cells": [
  {
   "cell_type": "raw",
   "id": "75fc703a-30b2-4ed9-b7c8-372fc387ce4b",
   "metadata": {},
   "source": [
    "sentence=\"The Eiffel Tower was built from 1887 to 1889 by French engineer Gustave Eiffel, whose company specialized in building metal frameworks and structures.\"\n",
    "\"\"\"\n",
    "Person Eg: pratyush\n",
    "Place Or Location Eg: India\n",
    "Date Eg: September,28-08-2024\n",
    "Time  Eg: 4:30pm\n",
    "Money Eg: 1 million dollar\n",
    "Organization Eg: cn pvt ltd\n",
    "Percent Eg: 20%, twenty percent\n",
    "\"\"\""
   ]
  },
  {
   "cell_type": "code",
   "execution_count": 2,
   "id": "85653020-d58d-4bc5-b127-7e44ab873d5d",
   "metadata": {},
   "outputs": [],
   "source": [
    "sentence=\"The Eiffel Tower was built from 1887 to 1889 by French engineer Gustave Eiffel, whose company specialized in building metal frameworks and structures.\""
   ]
  },
  {
   "cell_type": "code",
   "execution_count": 3,
   "id": "914957a6-0e85-43b4-8ee5-474de0234982",
   "metadata": {},
   "outputs": [],
   "source": [
    "import nltk\n",
    "word = nltk.word_tokenize(sentence)"
   ]
  },
  {
   "cell_type": "code",
   "execution_count": 4,
   "id": "7ab7f717-8b59-480b-b1a9-4de90df7e0bc",
   "metadata": {},
   "outputs": [],
   "source": [
    "tag_elements = nltk.pos_tag(word)"
   ]
  },
  {
   "cell_type": "code",
   "execution_count": 5,
   "id": "199b3ef9-1e03-46ee-ac51-4770e269fd4e",
   "metadata": {},
   "outputs": [],
   "source": [
    " # nltk.download('maxent_ne_chunker')"
   ]
  },
  {
   "cell_type": "code",
   "execution_count": 6,
   "id": "55835b5c-171c-4354-a344-0c55b2b4d79f",
   "metadata": {},
   "outputs": [],
   "source": [
    " # nltk.download('words')"
   ]
  },
  {
   "cell_type": "code",
   "execution_count": 7,
   "id": "fdc99e96-2107-438e-984e-28b0bf134203",
   "metadata": {},
   "outputs": [],
   "source": [
    "# !pip install svgling"
   ]
  },
  {
   "cell_type": "code",
   "execution_count": 8,
   "id": "78e0b4ca-0be9-40d1-8a09-c5b0473cb3d8",
   "metadata": {},
   "outputs": [],
   "source": [
    "nltk.ne_chunk(tag_elements).draw()"
   ]
  },
  {
   "cell_type": "code",
   "execution_count": null,
   "id": "db838abe-ea5d-4bd9-a8bf-5b9be02a8091",
   "metadata": {},
   "outputs": [],
   "source": []
  },
  {
   "cell_type": "code",
   "execution_count": null,
   "id": "57279b2c-1585-4fa1-a1e8-2729b44afcdf",
   "metadata": {},
   "outputs": [],
   "source": []
  },
  {
   "cell_type": "code",
   "execution_count": null,
   "id": "f20fee68-8eb6-40f4-a501-fc80c8e1f0c4",
   "metadata": {},
   "outputs": [],
   "source": []
  }
 ],
 "metadata": {
  "kernelspec": {
   "display_name": "Python 3 (ipykernel)",
   "language": "python",
   "name": "python3"
  },
  "language_info": {
   "codemirror_mode": {
    "name": "ipython",
    "version": 3
   },
   "file_extension": ".py",
   "mimetype": "text/x-python",
   "name": "python",
   "nbconvert_exporter": "python",
   "pygments_lexer": "ipython3",
   "version": "3.12.4"
  }
 },
 "nbformat": 4,
 "nbformat_minor": 5
}
