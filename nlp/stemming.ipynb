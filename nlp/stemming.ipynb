{
 "cells": [
  {
   "cell_type": "code",
   "execution_count": 1,
   "id": "470b5778-c4d5-4189-ada3-1ca267a40f3b",
   "metadata": {},
   "outputs": [],
   "source": [
    "## getitng word without suffixes and the main word from which we have derived"
   ]
  },
  {
   "cell_type": "code",
   "execution_count": 2,
   "id": "d206d216-d99a-4784-be52-8e46c8aaaa2a",
   "metadata": {},
   "outputs": [],
   "source": [
    "## helps to reduce features since each word would be later descibed as a vector \n",
    "## have one word instewad of similar words"
   ]
  },
  {
   "cell_type": "markdown",
   "id": "70f0761d-5894-4b9b-b51e-56777e24e331",
   "metadata": {},
   "source": [
    "### porterstemming"
   ]
  },
  {
   "cell_type": "code",
   "execution_count": 9,
   "id": "4529e5ed-58ff-4e1c-884a-20d6d551e2b5",
   "metadata": {},
   "outputs": [],
   "source": [
    "words  = [\"eating\",\"eats\",\"writing\",\"writes\",\"programming\", \"programs\",\"history\"]"
   ]
  },
  {
   "cell_type": "code",
   "execution_count": 10,
   "id": "dd794e02-0a53-4312-adcf-15c524bc22fd",
   "metadata": {},
   "outputs": [],
   "source": [
    "from nltk.stem import PorterStemmer"
   ]
  },
  {
   "cell_type": "code",
   "execution_count": 11,
   "id": "62b7af9e-b95d-4e04-9291-2349ebfa9f97",
   "metadata": {},
   "outputs": [],
   "source": [
    "stemming = PorterStemmer()"
   ]
  },
  {
   "cell_type": "code",
   "execution_count": 12,
   "id": "66d8878a-2d18-4dd3-838b-d2e97bd8113b",
   "metadata": {},
   "outputs": [
    {
     "name": "stdout",
     "output_type": "stream",
     "text": [
      "eating ----- eat\n",
      "eats ----- eat\n",
      "writing ----- write\n",
      "writes ----- write\n",
      "programming ----- program\n",
      "programs ----- program\n",
      "history ----- histori\n"
     ]
    }
   ],
   "source": [
    "## apply to each work\n",
    "for word in words:\n",
    "    print(word +\" ----- \"+stemming.stem(word))"
   ]
  },
  {
   "cell_type": "code",
   "execution_count": 13,
   "id": "d893d9a0-3db7-422b-89bc-af701c94bbaa",
   "metadata": {},
   "outputs": [
    {
     "data": {
      "text/plain": [
       "'congratul'"
      ]
     },
     "execution_count": 13,
     "metadata": {},
     "output_type": "execute_result"
    }
   ],
   "source": [
    "stemming.stem(\"congratulations\")"
   ]
  },
  {
   "cell_type": "code",
   "execution_count": 14,
   "id": "85296b33-6fc0-4a24-90b4-cc8480a3dbf3",
   "metadata": {},
   "outputs": [
    {
     "data": {
      "text/plain": [
       "'sit'"
      ]
     },
     "execution_count": 14,
     "metadata": {},
     "output_type": "execute_result"
    }
   ],
   "source": [
    "stemming.stem(\"sitting\")"
   ]
  },
  {
   "cell_type": "code",
   "execution_count": 15,
   "id": "ee352d23-a1d9-4335-ad04-29ff046b7d75",
   "metadata": {},
   "outputs": [],
   "source": [
    "## some words are not crrectly being reporesented"
   ]
  },
  {
   "cell_type": "markdown",
   "id": "b70808b3-f111-440b-8d5e-30d79e6b03fd",
   "metadata": {},
   "source": [
    "### RegexpStemmerClass"
   ]
  },
  {
   "cell_type": "code",
   "execution_count": 17,
   "id": "2df19996-889e-4e8e-a566-1d4ce8b4acff",
   "metadata": {},
   "outputs": [],
   "source": [
    "from nltk.stem import RegexpStemmer"
   ]
  },
  {
   "cell_type": "code",
   "execution_count": 23,
   "id": "781bf73f-3de6-4ab7-99ab-9f91241a8f6a",
   "metadata": {},
   "outputs": [],
   "source": [
    "reg_stemmer = RegexpStemmer('ing$|s$|e$|able$', min=4)\n",
    "## if last words are ing , s ,e , able then this would be removed\n",
    "## what ever reg exp are passed through here , those if matches in the passed word would be removed\n",
    "# min length would suggest tthat this regex would be applied only when min length is there"
   ]
  },
  {
   "cell_type": "code",
   "execution_count": 24,
   "id": "d5cb7385-f495-417d-98e9-0863a573783e",
   "metadata": {},
   "outputs": [
    {
     "data": {
      "text/plain": [
       "'eat'"
      ]
     },
     "execution_count": 24,
     "metadata": {},
     "output_type": "execute_result"
    }
   ],
   "source": [
    "reg_stemmer.stem(\"eating\")"
   ]
  },
  {
   "cell_type": "code",
   "execution_count": 25,
   "id": "5c4c267d-88ee-44f0-98f2-f0e3b530a874",
   "metadata": {},
   "outputs": [
    {
     "data": {
      "text/plain": [
       "'ingeat'"
      ]
     },
     "execution_count": 25,
     "metadata": {},
     "output_type": "execute_result"
    }
   ],
   "source": [
    "reg_stemmer.stem(\"ingeating\")"
   ]
  },
  {
   "cell_type": "code",
   "execution_count": 26,
   "id": "0d732293-5ea8-40b9-96dc-22537931e484",
   "metadata": {},
   "outputs": [],
   "source": [
    "## ingeat : remove from end only"
   ]
  },
  {
   "cell_type": "code",
   "execution_count": 27,
   "id": "82a3fd4e-5fe0-42cc-89c0-c89a4529d64e",
   "metadata": {},
   "outputs": [],
   "source": [
    "## ing$ makes sure that removed from the last \n",
    "## ing from everywhere \n",
    "## $ing from start"
   ]
  },
  {
   "cell_type": "markdown",
   "id": "2772cdd2-3210-4248-bdee-4e12b2854f55",
   "metadata": {},
   "source": [
    "### snowball stemmer"
   ]
  },
  {
   "cell_type": "code",
   "execution_count": 28,
   "id": "edc092da-9ce3-4173-b019-dcd0dec8a56a",
   "metadata": {},
   "outputs": [],
   "source": [
    "## better than potter"
   ]
  },
  {
   "cell_type": "code",
   "execution_count": 30,
   "id": "51f19733-9439-4632-8bc3-7437840f60ce",
   "metadata": {},
   "outputs": [],
   "source": [
    "from nltk.stem import SnowballStemmer"
   ]
  },
  {
   "cell_type": "code",
   "execution_count": 33,
   "id": "3c2622ea-0fbe-46b1-8546-ba9b593b1221",
   "metadata": {},
   "outputs": [],
   "source": [
    "snowballstemmer = SnowballStemmer('english')"
   ]
  },
  {
   "cell_type": "code",
   "execution_count": 35,
   "id": "ea8ad024-adf2-4f89-8caa-3c65e59e25d1",
   "metadata": {},
   "outputs": [
    {
     "name": "stdout",
     "output_type": "stream",
     "text": [
      "eating---------->eat\n",
      "eats---------->eat\n",
      "writing---------->write\n",
      "writes---------->write\n",
      "programming---------->program\n",
      "programs---------->program\n",
      "history---------->histori\n"
     ]
    }
   ],
   "source": [
    "for word in words:\n",
    "    print(word + \"---------->\" +snowballstemmer.stem(word))"
   ]
  },
  {
   "cell_type": "code",
   "execution_count": 36,
   "id": "11995d32-9a11-4b82-9ae2-4b0a472a1623",
   "metadata": {},
   "outputs": [
    {
     "data": {
      "text/plain": [
       "('fairli', 'sportingli')"
      ]
     },
     "execution_count": 36,
     "metadata": {},
     "output_type": "execute_result"
    }
   ],
   "source": [
    "stemming.stem(\"fairly\"), stemming.stem(\"sportingly\")"
   ]
  },
  {
   "cell_type": "code",
   "execution_count": 37,
   "id": "0e9812f0-c964-49f0-825e-3ccba432b0ff",
   "metadata": {},
   "outputs": [
    {
     "data": {
      "text/plain": [
       "('fair', 'sport')"
      ]
     },
     "execution_count": 37,
     "metadata": {},
     "output_type": "execute_result"
    }
   ],
   "source": [
    "snowballstemmer.stem(\"fairly\"), snowballstemmer.stem(\"sportingly\")"
   ]
  },
  {
   "cell_type": "code",
   "execution_count": 38,
   "id": "406f9208-8c4f-4846-9d4e-3a7ec8bf6dce",
   "metadata": {},
   "outputs": [
    {
     "data": {
      "text/plain": [
       "'goe'"
      ]
     },
     "execution_count": 38,
     "metadata": {},
     "output_type": "execute_result"
    }
   ],
   "source": [
    "snowballstemmer.stem(\"goes\")"
   ]
  },
  {
   "cell_type": "code",
   "execution_count": 40,
   "id": "1dc05765-f79c-409d-9828-1ea32ae1dded",
   "metadata": {},
   "outputs": [],
   "source": [
    "## for use cases like chatbots we cannot use this , since it is errorus in smome cases no matter what we do"
   ]
  },
  {
   "cell_type": "code",
   "execution_count": 41,
   "id": "375aa037-33c2-4895-925f-da0d9102baf4",
   "metadata": {},
   "outputs": [],
   "source": [
    "## in gen cases snowball works better but not all"
   ]
  },
  {
   "cell_type": "code",
   "execution_count": null,
   "id": "7fd4c030-bfc5-4fe0-8027-ceb72b26a183",
   "metadata": {},
   "outputs": [],
   "source": []
  },
  {
   "cell_type": "code",
   "execution_count": null,
   "id": "b96e9ebd-cc40-4616-94e1-a34c5100fc6c",
   "metadata": {},
   "outputs": [],
   "source": []
  }
 ],
 "metadata": {
  "kernelspec": {
   "display_name": "Python 3 (ipykernel)",
   "language": "python",
   "name": "python3"
  },
  "language_info": {
   "codemirror_mode": {
    "name": "ipython",
    "version": 3
   },
   "file_extension": ".py",
   "mimetype": "text/x-python",
   "name": "python",
   "nbconvert_exporter": "python",
   "pygments_lexer": "ipython3",
   "version": "3.12.4"
  }
 },
 "nbformat": 4,
 "nbformat_minor": 5
}
