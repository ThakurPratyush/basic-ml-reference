{
 "cells": [
  {
   "cell_type": "code",
   "execution_count": 23,
   "id": "c2fdbc77-f667-4408-8e90-6aa921e8d806",
   "metadata": {},
   "outputs": [
    {
     "name": "stdout",
     "output_type": "stream",
     "text": [
      "Requirement already satisfied: nltk in c:\\programdata\\anaconda3\\lib\\site-packages (3.8.1)\n",
      "Requirement already satisfied: click in c:\\programdata\\anaconda3\\lib\\site-packages (from nltk) (8.1.7)\n",
      "Requirement already satisfied: joblib in c:\\programdata\\anaconda3\\lib\\site-packages (from nltk) (1.4.2)\n",
      "Requirement already satisfied: regex>=2021.8.3 in c:\\programdata\\anaconda3\\lib\\site-packages (from nltk) (2023.10.3)\n",
      "Requirement already satisfied: tqdm in c:\\programdata\\anaconda3\\lib\\site-packages (from nltk) (4.66.4)\n",
      "Requirement already satisfied: colorama in c:\\programdata\\anaconda3\\lib\\site-packages (from click->nltk) (0.4.6)\n"
     ]
    }
   ],
   "source": [
    "!pip install nltk"
   ]
  },
  {
   "cell_type": "code",
   "execution_count": 48,
   "id": "0ed7fa5c-ac2e-4672-955f-73be8b7fcf78",
   "metadata": {},
   "outputs": [],
   "source": [
    "corpus = \"\"\"shit is fuck , fuck is shit. this is homely done shit.\n",
    "this is some shit inshit. instinct is home! SEntence after exclaimation's.\n",
    "\"\"\""
   ]
  },
  {
   "cell_type": "code",
   "execution_count": 50,
   "id": "e407b195-1e6f-4a10-b3de-bd1b82c1b3f8",
   "metadata": {},
   "outputs": [
    {
     "name": "stdout",
     "output_type": "stream",
     "text": [
      "shit is fuck , fuck is shit. this is homely done shit.\n",
      "this is some shit inshit. instinct is home! SEntence after exclaimation's.\n",
      "\n"
     ]
    }
   ],
   "source": [
    "print(corpus)"
   ]
  },
  {
   "cell_type": "markdown",
   "id": "3bd585e8-287d-4339-beb7-6be0b2c66dfa",
   "metadata": {},
   "source": [
    "##### convert sentence to paragraph"
   ]
  },
  {
   "cell_type": "code",
   "execution_count": 51,
   "id": "b391a734-39a7-4157-a6fa-0b8c9a7e7275",
   "metadata": {},
   "outputs": [],
   "source": [
    "from nltk.tokenize import sent_tokenize"
   ]
  },
  {
   "cell_type": "code",
   "execution_count": 52,
   "id": "970cf5bd-0470-40bc-82bf-37b162072053",
   "metadata": {},
   "outputs": [],
   "source": [
    "documents = sent_tokenize(corpus)"
   ]
  },
  {
   "cell_type": "code",
   "execution_count": 53,
   "id": "5a450fd2-dba1-44ee-b770-1d0ca7bb1c3f",
   "metadata": {},
   "outputs": [
    {
     "data": {
      "text/plain": [
       "['shit is fuck , fuck is shit.',\n",
       " 'this is homely done shit.',\n",
       " 'this is some shit inshit.',\n",
       " 'instinct is home!',\n",
       " \"SEntence after exclaimation's.\"]"
      ]
     },
     "execution_count": 53,
     "metadata": {},
     "output_type": "execute_result"
    }
   ],
   "source": [
    "documents"
   ]
  },
  {
   "cell_type": "code",
   "execution_count": 54,
   "id": "25bfafb7-c1b8-4510-a6a8-350dbf05e016",
   "metadata": {},
   "outputs": [],
   "source": [
    "#even after ! we get a new sentence"
   ]
  },
  {
   "cell_type": "code",
   "execution_count": 55,
   "id": "e73bd7ea-d67d-4eaa-b7b6-eee00f1cc39a",
   "metadata": {},
   "outputs": [
    {
     "data": {
      "text/plain": [
       "list"
      ]
     },
     "execution_count": 55,
     "metadata": {},
     "output_type": "execute_result"
    }
   ],
   "source": [
    "type(documents)"
   ]
  },
  {
   "cell_type": "code",
   "execution_count": 56,
   "id": "b4a946eb-c19e-4122-8c6a-61f2f4d6d945",
   "metadata": {},
   "outputs": [
    {
     "name": "stdout",
     "output_type": "stream",
     "text": [
      "shit is fuck , fuck is shit.\n",
      "this is homely done shit.\n",
      "this is some shit inshit.\n",
      "instinct is home!\n",
      "SEntence after exclaimation's.\n"
     ]
    }
   ],
   "source": [
    "for sentence in documents:\n",
    "    print(sentence)"
   ]
  },
  {
   "cell_type": "markdown",
   "id": "71957ec3-6b54-48d6-a62e-f90932cbb984",
   "metadata": {},
   "source": [
    "### para to words"
   ]
  },
  {
   "cell_type": "code",
   "execution_count": 57,
   "id": "b30af17c-70c3-4cba-a51a-3264133c76a1",
   "metadata": {},
   "outputs": [],
   "source": [
    "from nltk.tokenize import word_tokenize"
   ]
  },
  {
   "cell_type": "code",
   "execution_count": 34,
   "id": "244a855e-b07b-4878-8b34-17214ab393ac",
   "metadata": {},
   "outputs": [
    {
     "data": {
      "text/plain": [
       "['shit',\n",
       " 'is',\n",
       " 'fuck',\n",
       " ',',\n",
       " 'fuck',\n",
       " 'is',\n",
       " 'shit',\n",
       " '.',\n",
       " 'this',\n",
       " 'is',\n",
       " 'homely',\n",
       " 'done',\n",
       " 'shit',\n",
       " '.',\n",
       " 'this',\n",
       " 'is',\n",
       " 'some',\n",
       " 'shit',\n",
       " 'inshit',\n",
       " '.',\n",
       " 'instinct',\n",
       " 'is',\n",
       " 'home',\n",
       " '!',\n",
       " 'SEntence',\n",
       " 'after',\n",
       " 'exclaimation',\n",
       " \"'s\"]"
      ]
     },
     "execution_count": 34,
     "metadata": {},
     "output_type": "execute_result"
    }
   ],
   "source": [
    "word_tokenize(corpus)\n",
    "# even ! , . and 's are taken as sep words"
   ]
  },
  {
   "cell_type": "markdown",
   "id": "3bd81018-495e-461c-9773-46ee834716b3",
   "metadata": {},
   "source": [
    "### sentence to words\n",
    "<h4> firstly convert document to sentence and then each sen to words </h4>"
   ]
  },
  {
   "cell_type": "code",
   "execution_count": 58,
   "id": "c8820ca5-12ff-4845-b17c-5793a3685163",
   "metadata": {},
   "outputs": [
    {
     "name": "stdout",
     "output_type": "stream",
     "text": [
      "['shit', 'is', 'fuck', ',', 'fuck', 'is', 'shit', '.']\n",
      "['this', 'is', 'homely', 'done', 'shit', '.']\n",
      "['this', 'is', 'some', 'shit', 'inshit', '.']\n",
      "['instinct', 'is', 'home', '!']\n",
      "['SEntence', 'after', 'exclaimation', \"'s\", '.']\n"
     ]
    }
   ],
   "source": [
    "for sentence in documents:\n",
    "    print(word_tokenize(sentence))"
   ]
  },
  {
   "cell_type": "code",
   "execution_count": 60,
   "id": "9ab34828-6562-4921-8a01-46da9ca8f6cd",
   "metadata": {},
   "outputs": [],
   "source": [
    "from nltk.tokenize import wordpunct_tokenize"
   ]
  },
  {
   "cell_type": "code",
   "execution_count": 61,
   "id": "cd2e507d-da37-44a1-8fb1-adb8ba36d9f0",
   "metadata": {},
   "outputs": [
    {
     "data": {
      "text/plain": [
       "['shit',\n",
       " 'is',\n",
       " 'fuck',\n",
       " ',',\n",
       " 'fuck',\n",
       " 'is',\n",
       " 'shit',\n",
       " '.',\n",
       " 'this',\n",
       " 'is',\n",
       " 'homely',\n",
       " 'done',\n",
       " 'shit',\n",
       " '.',\n",
       " 'this',\n",
       " 'is',\n",
       " 'some',\n",
       " 'shit',\n",
       " 'inshit',\n",
       " '.',\n",
       " 'instinct',\n",
       " 'is',\n",
       " 'home',\n",
       " '!',\n",
       " 'SEntence',\n",
       " 'after',\n",
       " 'exclaimation',\n",
       " \"'\",\n",
       " 's',\n",
       " '.']"
      ]
     },
     "execution_count": 61,
     "metadata": {},
     "output_type": "execute_result"
    }
   ],
   "source": [
    "wordpunct_tokenize(corpus)"
   ]
  },
  {
   "cell_type": "code",
   "execution_count": 62,
   "id": "527be157-6e85-47bc-bbff-66e0d5fdedfa",
   "metadata": {},
   "outputs": [],
   "source": [
    "## this would take ' ans s as two diff words from  \"'s\""
   ]
  },
  {
   "cell_type": "code",
   "execution_count": 63,
   "id": "5cf620f5-68e2-477c-9a2a-8a1255f3d649",
   "metadata": {},
   "outputs": [],
   "source": [
    "from nltk.tokenize import TreebankWordTokenizer"
   ]
  },
  {
   "cell_type": "code",
   "execution_count": 44,
   "id": "b06bfd8f-7447-46c7-9163-4abb818c544e",
   "metadata": {},
   "outputs": [],
   "source": [
    "tokenizer = TreebankWordTokenizer()"
   ]
  },
  {
   "cell_type": "code",
   "execution_count": 45,
   "id": "602e6c93-bc5d-42a8-971e-a92989b5166e",
   "metadata": {},
   "outputs": [
    {
     "data": {
      "text/plain": [
       "['shit',\n",
       " 'is',\n",
       " 'fuck',\n",
       " ',',\n",
       " 'fuck',\n",
       " 'is',\n",
       " 'shit.',\n",
       " 'this',\n",
       " 'is',\n",
       " 'homely',\n",
       " 'done',\n",
       " 'shit.',\n",
       " 'this',\n",
       " 'is',\n",
       " 'some',\n",
       " 'shit',\n",
       " 'inshit.',\n",
       " 'instinct',\n",
       " 'is',\n",
       " 'home',\n",
       " '!',\n",
       " 'SEntence',\n",
       " 'after',\n",
       " \"exclaimation's\"]"
      ]
     },
     "execution_count": 45,
     "metadata": {},
     "output_type": "execute_result"
    }
   ],
   "source": [
    "tokenizer.tokenize(corpus)"
   ]
  },
  {
   "cell_type": "code",
   "execution_count": 46,
   "id": "d8c04048-e0a6-4d3e-b1b0-702e4b53c207",
   "metadata": {},
   "outputs": [],
   "source": [
    "## with this . will be included in the preious word, if it is there in last word then taken as sep word"
   ]
  },
  {
   "cell_type": "code",
   "execution_count": null,
   "id": "24896dc1-5fa1-443b-a483-76f521891d93",
   "metadata": {},
   "outputs": [],
   "source": []
  },
  {
   "cell_type": "code",
   "execution_count": null,
   "id": "28cd99e8-89f3-421e-83b1-679656bb3715",
   "metadata": {},
   "outputs": [],
   "source": []
  },
  {
   "cell_type": "code",
   "execution_count": null,
   "id": "f17dba39-2ffd-481f-b1ae-bbcd7e4a22f2",
   "metadata": {},
   "outputs": [],
   "source": []
  },
  {
   "cell_type": "code",
   "execution_count": null,
   "id": "a252fbf6-8508-43e6-abcd-98125a4da187",
   "metadata": {},
   "outputs": [],
   "source": []
  },
  {
   "cell_type": "code",
   "execution_count": null,
   "id": "01a28826-beea-4c83-8db0-a0e4d9b6d293",
   "metadata": {},
   "outputs": [],
   "source": []
  }
 ],
 "metadata": {
  "kernelspec": {
   "display_name": "Python 3 (ipykernel)",
   "language": "python",
   "name": "python3"
  },
  "language_info": {
   "codemirror_mode": {
    "name": "ipython",
    "version": 3
   },
   "file_extension": ".py",
   "mimetype": "text/x-python",
   "name": "python",
   "nbconvert_exporter": "python",
   "pygments_lexer": "ipython3",
   "version": "3.9.19"
  }
 },
 "nbformat": 4,
 "nbformat_minor": 5
}
