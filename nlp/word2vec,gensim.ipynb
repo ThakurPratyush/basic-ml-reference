{
 "cells": [
  {
   "cell_type": "code",
   "execution_count": 436,
   "id": "8ffe86f8-c687-4020-a089-07d791d81bf4",
   "metadata": {},
   "outputs": [],
   "source": [
    "import gensim\n",
    "from gensim.models import Word2Vec, KeyedVectors"
   ]
  },
  {
   "cell_type": "code",
   "execution_count": 437,
   "id": "8261241b-4d39-4560-a736-50c4d5d09178",
   "metadata": {},
   "outputs": [],
   "source": [
    "# import gc\n",
    "\n",
    "# # Delete the model\n",
    "# del wv\n",
    "\n",
    "# # Force garbage collection\n",
    "# gc.collect()\n"
   ]
  },
  {
   "cell_type": "code",
   "execution_count": 438,
   "id": "13c67306-304c-4cb5-a2c8-d85d19e83aa8",
   "metadata": {},
   "outputs": [],
   "source": [
    "# import gensim.downloader as api\n",
    "# wv = api.load(\"word2vec-google-news-300\")\n",
    "\n",
    "# vec_king = wv[\"king\"]"
   ]
  },
  {
   "cell_type": "code",
   "execution_count": 439,
   "id": "c050034b-94c7-40ab-bd1b-a68817283973",
   "metadata": {},
   "outputs": [],
   "source": [
    "import pandas as pd\n",
    "messages = pd.read_csv(\"smsspamcollection/SMSSpamCollection\",sep = \"\\t\", names = [\"label\",\"messages\"])"
   ]
  },
  {
   "cell_type": "code",
   "execution_count": 440,
   "id": "87c49e73-03ed-4ae4-821e-4c37571440d3",
   "metadata": {},
   "outputs": [],
   "source": [
    "# vec_king"
   ]
  },
  {
   "cell_type": "code",
   "execution_count": 441,
   "id": "1e30deef-5a09-4be9-8050-2bf4613082be",
   "metadata": {},
   "outputs": [],
   "source": [
    "from nltk.stem import WordNetLemmatizer"
   ]
  },
  {
   "cell_type": "code",
   "execution_count": 442,
   "id": "dd350eb1-b5b7-4b9b-b739-7c59fa78dae5",
   "metadata": {},
   "outputs": [],
   "source": [
    "lem = WordNetLemmatizer()"
   ]
  },
  {
   "cell_type": "code",
   "execution_count": 443,
   "id": "09e79f35-8f85-4a31-b176-e9a4992f6613",
   "metadata": {},
   "outputs": [],
   "source": [
    "## here for understanding purpose we are not going to remove stopwords\n",
    "#just too check how basic words are converted\n",
    "import re"
   ]
  },
  {
   "cell_type": "code",
   "execution_count": 444,
   "id": "a9bcca97-b4c6-4c33-83a5-d9bd80283ae1",
   "metadata": {},
   "outputs": [],
   "source": [
    "corpus = []\n",
    "for i in range(0,len(messages)):\n",
    "    review = re.sub(\"[^a-zA-z]\",\" \", messages[\"messages\"][i])\n",
    "    review = review.lower()\n",
    "    review = review.split()\n",
    "    # now we have each sentence as list of words\n",
    "\n",
    "    review = [lem.lemmatize(word) for word in review]\n",
    "    review = \" \".join(review)\n",
    "    ## forming the  sentence as list again\n",
    "    corpus.append(review)"
   ]
  },
  {
   "cell_type": "code",
   "execution_count": 445,
   "id": "4082aa44-0cd1-4b69-a3fb-a3bf5bcddbda",
   "metadata": {},
   "outputs": [
    {
     "data": {
      "text/plain": [
       "[[0, '', '645'], [0, '', ':) '], [0, '', ':-) :-)']]"
      ]
     },
     "execution_count": 445,
     "metadata": {},
     "output_type": "execute_result"
    }
   ],
   "source": [
    "## later in code I discrovered that after I did the words array of array creation that 3 rows are dropping off somewhere\n",
    "[[i,j,k] for i,j,k in zip(list(map(len,corpus)),corpus, messages['messages']) if i< 1]\n",
    "## so in a way we are making 3 iterators and then iterating through \n",
    "\n",
    "#these three entries are missing because of the preprcessing steps\n",
    "# we should remove these from y also"
   ]
  },
  {
   "cell_type": "code",
   "execution_count": 446,
   "id": "0c3a3813-c2a4-4aa7-b8b7-23fc36e192e4",
   "metadata": {},
   "outputs": [
    {
     "data": {
      "text/plain": [
       "5569"
      ]
     },
     "execution_count": 446,
     "metadata": {},
     "output_type": "execute_result"
    }
   ],
   "source": [
    "len(words)"
   ]
  },
  {
   "cell_type": "code",
   "execution_count": 447,
   "id": "8568fb74-3055-4ee2-8d63-ee9d5649f05e",
   "metadata": {},
   "outputs": [],
   "source": [
    "from nltk import sent_tokenize\n",
    "from gensim.utils import simple_preprocess"
   ]
  },
  {
   "cell_type": "code",
   "execution_count": 448,
   "id": "9df9f92d-2e83-4cfb-9f22-746afc5a3ef2",
   "metadata": {},
   "outputs": [],
   "source": [
    "words =[]\n",
    "for sent in corpus:\n",
    "    sent_token = sent_tokenize(sent)\n",
    "    # froom aa parangraph firstly getting sentances \n",
    "    for word in sent_token:\n",
    "        ## this second method can also be used to preprocess where in we can paass the sentence tokens to simple_preprocess \n",
    "        words.append(simple_preprocess(word))"
   ]
  },
  {
   "cell_type": "code",
   "execution_count": 449,
   "id": "8e4fcf46-01e2-4bff-85bb-32ff3088e90a",
   "metadata": {},
   "outputs": [
    {
     "data": {
      "text/plain": [
       "['go',\n",
       " 'until',\n",
       " 'jurong',\n",
       " 'point',\n",
       " 'crazy',\n",
       " 'available',\n",
       " 'only',\n",
       " 'in',\n",
       " 'bugis',\n",
       " 'great',\n",
       " 'world',\n",
       " 'la',\n",
       " 'buffet',\n",
       " 'cine',\n",
       " 'there',\n",
       " 'got',\n",
       " 'amore',\n",
       " 'wat']"
      ]
     },
     "execution_count": 449,
     "metadata": {},
     "output_type": "execute_result"
    }
   ],
   "source": [
    "# list words here would contain list of words in each  sentences\n",
    "words[0]\n",
    "# representation of one sentence"
   ]
  },
  {
   "cell_type": "raw",
   "id": "8cb6480e-1a98-4354-afbc-3a3d1f36ec61",
   "metadata": {},
   "source": [
    "read code below , would understand why we are keeping in this format of [[]] of words where each list is words in sentecnes"
   ]
  },
  {
   "cell_type": "markdown",
   "id": "aeb57945-621a-4701-8875-a2a248a3a5f9",
   "metadata": {},
   "source": [
    "### using gensim from scratch"
   ]
  },
  {
   "cell_type": "code",
   "execution_count": 450,
   "id": "88b133b6-83c5-4e94-b158-e7f34ffdce91",
   "metadata": {},
   "outputs": [],
   "source": [
    "### word2vec from scratch\n",
    "## earlier when we used word to vec we used the pretrained news acticle data toget rep , now using our data"
   ]
  },
  {
   "cell_type": "code",
   "execution_count": 451,
   "id": "57dad290-9d0a-44cb-ba50-b4218e29bc12",
   "metadata": {},
   "outputs": [],
   "source": [
    "model = gensim.models.Word2Vec(words)\n",
    "# default feature size is 100\n",
    "## can pass epochs etc here to make sure on how many epocs we tain this model on our data"
   ]
  },
  {
   "cell_type": "raw",
   "id": "ef98553e-a024-4e8a-97c3-b15256fdb8fc",
   "metadata": {},
   "source": [
    "model.wv.index_to_key\n",
    "#total vocab on which model trained on in list format is showen"
   ]
  },
  {
   "cell_type": "code",
   "execution_count": 452,
   "id": "0b3f571a-a296-4f61-8502-c0a139c2f631",
   "metadata": {},
   "outputs": [
    {
     "data": {
      "text/plain": [
       "5569"
      ]
     },
     "execution_count": 452,
     "metadata": {},
     "output_type": "execute_result"
    }
   ],
   "source": [
    "model.corpus_count\n",
    "## no of sentecnes  on which trained"
   ]
  },
  {
   "cell_type": "code",
   "execution_count": 453,
   "id": "a91eace3-4bd9-434e-9fc6-bcd07a1ff698",
   "metadata": {},
   "outputs": [
    {
     "data": {
      "text/plain": [
       "5"
      ]
     },
     "execution_count": 453,
     "metadata": {},
     "output_type": "execute_result"
    }
   ],
   "source": [
    "model.epochs"
   ]
  },
  {
   "cell_type": "code",
   "execution_count": 454,
   "id": "740bc4cb-9f53-4cd9-89d9-1961a42404b9",
   "metadata": {},
   "outputs": [
    {
     "data": {
      "text/plain": [
       "[('stuff', 0.9975462555885315),\n",
       " ('down', 0.9975353479385376),\n",
       " ('ask', 0.9974292516708374),\n",
       " ('doe', 0.9974199533462524),\n",
       " ('could', 0.9974098205566406),\n",
       " ('haha', 0.9973984360694885),\n",
       " ('even', 0.9973711371421814),\n",
       " ('out', 0.9973620176315308),\n",
       " ('actually', 0.9973409175872803),\n",
       " ('amp', 0.9973403215408325)]"
      ]
     },
     "execution_count": 454,
     "metadata": {},
     "output_type": "execute_result"
    }
   ],
   "source": [
    "model.wv.most_similar('kid')\n",
    "# n our vocabulary whixh are most similar words to wrod kid"
   ]
  },
  {
   "cell_type": "code",
   "execution_count": 455,
   "id": "54c187c5-6cd6-4b0d-81b8-994d4c2da548",
   "metadata": {},
   "outputs": [
    {
     "data": {
      "text/plain": [
       "array([-0.29679525,  0.37631786,  0.18575299,  0.19054769,  0.07910077,\n",
       "       -0.67115635,  0.26704744,  0.7039873 , -0.37193224, -0.1904544 ,\n",
       "       -0.26920864, -0.5036599 , -0.04637603,  0.14259544,  0.30070046,\n",
       "       -0.28751042,  0.20274957, -0.39988643, -0.13557966, -0.78346235,\n",
       "        0.37224182,  0.10166611,  0.12815718, -0.24928622, -0.05463323,\n",
       "       -0.0093995 , -0.27534997, -0.29339388, -0.44311234,  0.09213511,\n",
       "        0.37698174,  0.02168418,  0.15909405, -0.32078823, -0.15048134,\n",
       "        0.5157417 ,  0.0121179 , -0.17925806, -0.15051308, -0.6934408 ,\n",
       "        0.09100346, -0.24837519, -0.24062788,  0.0405445 ,  0.23734446,\n",
       "       -0.050428  , -0.16045621, -0.08290946,  0.3223107 ,  0.16926962,\n",
       "        0.2035431 , -0.23147258, -0.09339802,  0.0132419 ,  0.01552789,\n",
       "        0.10723267,  0.2182554 ,  0.11485488, -0.5024585 ,  0.2438796 ,\n",
       "       -0.00272788,  0.19599174, -0.05493554, -0.1410245 , -0.33713752,\n",
       "        0.37977546,  0.17153451,  0.31646812, -0.40324   ,  0.5260392 ,\n",
       "       -0.39035225,  0.18936333,  0.6033084 , -0.182148  ,  0.5228725 ,\n",
       "        0.11807274,  0.14380313, -0.18775725, -0.27935526,  0.11771537,\n",
       "       -0.3736472 , -0.10346846, -0.39378718,  0.6399641 , -0.27011734,\n",
       "       -0.13821454,  0.0848009 ,  0.27317262,  0.54084516,  0.11928353,\n",
       "        0.5605482 ,  0.21861863,  0.14149143,  0.09991098,  0.7165546 ,\n",
       "        0.30515513,  0.25561842, -0.29721463,  0.22873357, -0.04109222],\n",
       "      dtype=float32)"
      ]
     },
     "execution_count": 455,
     "metadata": {},
     "output_type": "execute_result"
    }
   ],
   "source": [
    "model.wv['good']"
   ]
  },
  {
   "cell_type": "markdown",
   "id": "fba695f0-52d4-4393-ae3b-93b042d54d37",
   "metadata": {},
   "source": [
    "### using avd word2vec"
   ]
  },
  {
   "cell_type": "code",
   "execution_count": 456,
   "id": "b0523a38-c916-4e27-ac77-742fedc8399d",
   "metadata": {},
   "outputs": [],
   "source": [
    "# for every word we have 100 dim we want 100 dim for every sentence"
   ]
  },
  {
   "cell_type": "code",
   "execution_count": 457,
   "id": "acc87cde-e288-4573-aa72-e2d6a9d5dfb4",
   "metadata": {},
   "outputs": [],
   "source": [
    "import numpy as np\n",
    "def avg_word2vec(doc):\n",
    "    # so if in a doc we have words , for each word if that word in our vocabulary we would \n",
    "    # calculate the mean of words whhich are there ni that particular doc leaving the words which are not there\n",
    "    return np.mean([model.wv[word] for word in doc if word in model.wv.index_to_key],axis = 0)"
   ]
  },
  {
   "cell_type": "code",
   "execution_count": 458,
   "id": "848489b8-04d8-4a3f-8a0e-d5575fef13c1",
   "metadata": {},
   "outputs": [],
   "source": [
    "## progress bar"
   ]
  },
  {
   "cell_type": "code",
   "execution_count": 459,
   "id": "f4e175f2-fd7a-4057-b267-d35f59193c66",
   "metadata": {},
   "outputs": [],
   "source": [
    "from tqdm import tqdm"
   ]
  },
  {
   "cell_type": "code",
   "execution_count": 460,
   "id": "43308228-b470-4faa-a285-902414344fc4",
   "metadata": {},
   "outputs": [],
   "source": [
    "## aplly word2vec on each sentence:"
   ]
  },
  {
   "cell_type": "code",
   "execution_count": 461,
   "id": "97eedf6a-6100-4172-b322-c55a22dae76b",
   "metadata": {},
   "outputs": [
    {
     "name": "stderr",
     "output_type": "stream",
     "text": [
      "  0%|          | 0/5569 [00:00<?, ?it/s]C:\\Users\\thaku\\anaconda3\\envs\\nlpx\\lib\\site-packages\\numpy\\core\\fromnumeric.py:3504: RuntimeWarning: Mean of empty slice.\n",
      "  return _methods._mean(a, axis=axis, dtype=dtype,\n",
      "C:\\Users\\thaku\\anaconda3\\envs\\nlpx\\lib\\site-packages\\numpy\\core\\_methods.py:129: RuntimeWarning: invalid value encountered in scalar divide\n",
      "  ret = ret.dtype.type(ret / rcount)\n",
      "100%|██████████| 5569/5569 [00:00<00:00, 6375.62it/s]\n"
     ]
    }
   ],
   "source": [
    "X = []\n",
    "for i in tqdm(range(0,len(words))):\n",
    "    X.append(avg_word2vec(words[i]))"
   ]
  },
  {
   "cell_type": "code",
   "execution_count": 462,
   "id": "4df6b78f-8328-4891-ae7b-1169175a2918",
   "metadata": {},
   "outputs": [
    {
     "data": {
      "text/plain": [
       "100"
      ]
     },
     "execution_count": 462,
     "metadata": {},
     "output_type": "execute_result"
    }
   ],
   "source": [
    "len(X[100])"
   ]
  },
  {
   "cell_type": "code",
   "execution_count": 463,
   "id": "52c78a73-fbdc-4afa-90de-864c19534493",
   "metadata": {},
   "outputs": [
    {
     "data": {
      "text/plain": [
       "5569"
      ]
     },
     "execution_count": 463,
     "metadata": {},
     "output_type": "execute_result"
    }
   ],
   "source": [
    "## complete sntence represented as 100 dim vec\n",
    "len(X)"
   ]
  },
  {
   "cell_type": "code",
   "execution_count": 464,
   "id": "ed3290a8-15f9-4eee-b85f-e0c160a6a795",
   "metadata": {},
   "outputs": [],
   "source": [
    "X_new = np.array(X, dtype=object)"
   ]
  },
  {
   "cell_type": "code",
   "execution_count": 465,
   "id": "12d1d60b-88de-4f23-9f81-541af29e6e17",
   "metadata": {},
   "outputs": [
    {
     "data": {
      "text/plain": [
       "5572"
      ]
     },
     "execution_count": 465,
     "metadata": {},
     "output_type": "execute_result"
    }
   ],
   "source": [
    "X_new.shape\n",
    "len(corpus)"
   ]
  },
  {
   "cell_type": "code",
   "execution_count": 466,
   "id": "35a72af1-675e-49d7-8f74-8c295a083658",
   "metadata": {},
   "outputs": [
    {
     "data": {
      "text/plain": [
       "(5569, 2)"
      ]
     },
     "execution_count": 466,
     "metadata": {},
     "output_type": "execute_result"
    }
   ],
   "source": [
    "messages[list(map(lambda x : len(x) >0,corpus))].shape"
   ]
  },
  {
   "cell_type": "code",
   "execution_count": 467,
   "id": "c76bcce0-88b8-40ee-bc6c-02b086daea89",
   "metadata": {},
   "outputs": [],
   "source": [
    "# filtering the entries from the data itself\n",
    "y = messages[list(map(lambda x : len(x) > 0,corpus))]\n",
    "y = pd.get_dummies(y['label'])"
   ]
  },
  {
   "cell_type": "code",
   "execution_count": 468,
   "id": "79bca78d-47ca-4393-b78c-264b42674a4b",
   "metadata": {},
   "outputs": [
    {
     "data": {
      "text/plain": [
       "(5569, 2)"
      ]
     },
     "execution_count": 468,
     "metadata": {},
     "output_type": "execute_result"
    }
   ],
   "source": [
    "y.shape"
   ]
  },
  {
   "cell_type": "code",
   "execution_count": 469,
   "id": "4621ec03-2141-4416-97bf-caeef7992a04",
   "metadata": {},
   "outputs": [],
   "source": [
    "y = y.iloc[:,0].values"
   ]
  },
  {
   "cell_type": "code",
   "execution_count": 470,
   "id": "b97b6e58-bdab-482f-964f-4762a5ae31a7",
   "metadata": {},
   "outputs": [
    {
     "data": {
      "text/plain": [
       "(5572, 2)"
      ]
     },
     "execution_count": 470,
     "metadata": {},
     "output_type": "execute_result"
    }
   ],
   "source": [
    "messages.shape"
   ]
  },
  {
   "cell_type": "code",
   "execution_count": 471,
   "id": "a1be0753-093e-4b1f-97cc-1418a4fff0d0",
   "metadata": {},
   "outputs": [
    {
     "data": {
      "text/plain": [
       "(5569,)"
      ]
     },
     "execution_count": 471,
     "metadata": {},
     "output_type": "execute_result"
    }
   ],
   "source": [
    "y.shape"
   ]
  },
  {
   "cell_type": "code",
   "execution_count": 472,
   "id": "d2c4dd76-3734-40d1-8cda-1c3d5e77cf5d",
   "metadata": {},
   "outputs": [],
   "source": [
    "## shape of orginal data is 5572 and of the x_NEW IS 5569 some issue is there for sure"
   ]
  },
  {
   "cell_type": "code",
   "execution_count": 473,
   "id": "d4c558fa-4a64-4dd0-914c-371e413a5d0e",
   "metadata": {},
   "outputs": [
    {
     "data": {
      "text/plain": [
       "(100,)"
      ]
     },
     "execution_count": 473,
     "metadata": {},
     "output_type": "execute_result"
    }
   ],
   "source": [
    "X[0].shape"
   ]
  },
  {
   "cell_type": "raw",
   "id": "b92a6d96-2f8b-465f-8230-8af1603722cd",
   "metadata": {},
   "source": [
    "suggests in dataframe we have 100 rows , but we want each sentence to be taken as 1 row with 100 columns can be done using this :"
   ]
  },
  {
   "cell_type": "code",
   "execution_count": 474,
   "id": "0adc44a1-aa86-46cf-9bf1-80c6b4ad7e08",
   "metadata": {},
   "outputs": [
    {
     "data": {
      "text/plain": [
       "(1, 100)"
      ]
     },
     "execution_count": 474,
     "metadata": {},
     "output_type": "execute_result"
    }
   ],
   "source": [
    "X[0].reshape(1,-1).shape"
   ]
  },
  {
   "cell_type": "code",
   "execution_count": 480,
   "id": "513271b9-b422-46ca-8ae1-18c586f51f86",
   "metadata": {},
   "outputs": [],
   "source": [
    "dfs  = []\n",
    "for i in range (0,len(X)):\n",
    "    df = pd.DataFrame(X[i].reshape(1,-1))\n",
    "    dfs.append(df)"
   ]
  },
  {
   "cell_type": "code",
   "execution_count": 481,
   "id": "0dcdb5ca-8267-4aff-816a-07a23bd2c818",
   "metadata": {},
   "outputs": [
    {
     "name": "stderr",
     "output_type": "stream",
     "text": [
      "C:\\Users\\thaku\\AppData\\Local\\Temp\\ipykernel_19824\\69934419.py:1: FutureWarning: The behavior of DataFrame concatenation with empty or all-NA entries is deprecated. In a future version, this will no longer exclude empty or all-NA columns when determining the result dtypes. To retain the old behavior, exclude the relevant entries before the concat operation.\n",
      "  df = pd.concat(dfs, ignore_index=True)\n"
     ]
    }
   ],
   "source": [
    "df = pd.concat(dfs, ignore_index=True)"
   ]
  },
  {
   "cell_type": "code",
   "execution_count": 482,
   "id": "1b45ac89-ab60-490d-a8ae-8f53a1aaf5e1",
   "metadata": {},
   "outputs": [
    {
     "data": {
      "text/plain": [
       "list"
      ]
     },
     "execution_count": 482,
     "metadata": {},
     "output_type": "execute_result"
    }
   ],
   "source": [
    "type(dfs)"
   ]
  },
  {
   "cell_type": "code",
   "execution_count": 483,
   "id": "5a1879fc-ad5e-4385-bba8-68b36f2719ab",
   "metadata": {},
   "outputs": [
    {
     "data": {
      "text/html": [
       "<div>\n",
       "<style scoped>\n",
       "    .dataframe tbody tr th:only-of-type {\n",
       "        vertical-align: middle;\n",
       "    }\n",
       "\n",
       "    .dataframe tbody tr th {\n",
       "        vertical-align: top;\n",
       "    }\n",
       "\n",
       "    .dataframe thead th {\n",
       "        text-align: right;\n",
       "    }\n",
       "</style>\n",
       "<table border=\"1\" class=\"dataframe\">\n",
       "  <thead>\n",
       "    <tr style=\"text-align: right;\">\n",
       "      <th></th>\n",
       "      <th>0</th>\n",
       "      <th>1</th>\n",
       "      <th>2</th>\n",
       "      <th>3</th>\n",
       "      <th>4</th>\n",
       "      <th>5</th>\n",
       "      <th>6</th>\n",
       "      <th>7</th>\n",
       "      <th>8</th>\n",
       "      <th>9</th>\n",
       "      <th>...</th>\n",
       "      <th>90</th>\n",
       "      <th>91</th>\n",
       "      <th>92</th>\n",
       "      <th>93</th>\n",
       "      <th>94</th>\n",
       "      <th>95</th>\n",
       "      <th>96</th>\n",
       "      <th>97</th>\n",
       "      <th>98</th>\n",
       "      <th>99</th>\n",
       "    </tr>\n",
       "  </thead>\n",
       "  <tbody>\n",
       "    <tr>\n",
       "      <th>0</th>\n",
       "      <td>-0.199557</td>\n",
       "      <td>0.262728</td>\n",
       "      <td>0.140453</td>\n",
       "      <td>0.126231</td>\n",
       "      <td>0.076066</td>\n",
       "      <td>-0.490201</td>\n",
       "      <td>0.169265</td>\n",
       "      <td>0.486570</td>\n",
       "      <td>-0.262596</td>\n",
       "      <td>-0.158662</td>\n",
       "      <td>...</td>\n",
       "      <td>0.382796</td>\n",
       "      <td>0.144859</td>\n",
       "      <td>0.059135</td>\n",
       "      <td>0.040921</td>\n",
       "      <td>0.482592</td>\n",
       "      <td>0.185473</td>\n",
       "      <td>0.135428</td>\n",
       "      <td>-0.241599</td>\n",
       "      <td>0.183057</td>\n",
       "      <td>0.007152</td>\n",
       "    </tr>\n",
       "    <tr>\n",
       "      <th>1</th>\n",
       "      <td>-0.182087</td>\n",
       "      <td>0.225032</td>\n",
       "      <td>0.119098</td>\n",
       "      <td>0.109012</td>\n",
       "      <td>0.073934</td>\n",
       "      <td>-0.420796</td>\n",
       "      <td>0.130697</td>\n",
       "      <td>0.422781</td>\n",
       "      <td>-0.225505</td>\n",
       "      <td>-0.132019</td>\n",
       "      <td>...</td>\n",
       "      <td>0.336122</td>\n",
       "      <td>0.115900</td>\n",
       "      <td>0.045137</td>\n",
       "      <td>0.029396</td>\n",
       "      <td>0.400762</td>\n",
       "      <td>0.153643</td>\n",
       "      <td>0.115656</td>\n",
       "      <td>-0.216398</td>\n",
       "      <td>0.162219</td>\n",
       "      <td>0.001012</td>\n",
       "    </tr>\n",
       "    <tr>\n",
       "      <th>2</th>\n",
       "      <td>-0.200557</td>\n",
       "      <td>0.290213</td>\n",
       "      <td>0.146184</td>\n",
       "      <td>0.143430</td>\n",
       "      <td>0.054120</td>\n",
       "      <td>-0.527835</td>\n",
       "      <td>0.166102</td>\n",
       "      <td>0.485733</td>\n",
       "      <td>-0.286185</td>\n",
       "      <td>-0.196777</td>\n",
       "      <td>...</td>\n",
       "      <td>0.370795</td>\n",
       "      <td>0.141367</td>\n",
       "      <td>0.033377</td>\n",
       "      <td>0.032064</td>\n",
       "      <td>0.501388</td>\n",
       "      <td>0.170128</td>\n",
       "      <td>0.082857</td>\n",
       "      <td>-0.272957</td>\n",
       "      <td>0.207053</td>\n",
       "      <td>0.038301</td>\n",
       "    </tr>\n",
       "    <tr>\n",
       "      <th>3</th>\n",
       "      <td>-0.281285</td>\n",
       "      <td>0.354928</td>\n",
       "      <td>0.188927</td>\n",
       "      <td>0.175514</td>\n",
       "      <td>0.107097</td>\n",
       "      <td>-0.665953</td>\n",
       "      <td>0.223738</td>\n",
       "      <td>0.669136</td>\n",
       "      <td>-0.356880</td>\n",
       "      <td>-0.208749</td>\n",
       "      <td>...</td>\n",
       "      <td>0.527517</td>\n",
       "      <td>0.193783</td>\n",
       "      <td>0.082619</td>\n",
       "      <td>0.060925</td>\n",
       "      <td>0.643466</td>\n",
       "      <td>0.255542</td>\n",
       "      <td>0.200216</td>\n",
       "      <td>-0.333914</td>\n",
       "      <td>0.251997</td>\n",
       "      <td>-0.001207</td>\n",
       "    </tr>\n",
       "    <tr>\n",
       "      <th>4</th>\n",
       "      <td>-0.241334</td>\n",
       "      <td>0.290233</td>\n",
       "      <td>0.165663</td>\n",
       "      <td>0.145448</td>\n",
       "      <td>0.097039</td>\n",
       "      <td>-0.558744</td>\n",
       "      <td>0.186864</td>\n",
       "      <td>0.565717</td>\n",
       "      <td>-0.302588</td>\n",
       "      <td>-0.178086</td>\n",
       "      <td>...</td>\n",
       "      <td>0.443885</td>\n",
       "      <td>0.161164</td>\n",
       "      <td>0.074178</td>\n",
       "      <td>0.053702</td>\n",
       "      <td>0.545903</td>\n",
       "      <td>0.216509</td>\n",
       "      <td>0.163407</td>\n",
       "      <td>-0.289041</td>\n",
       "      <td>0.209333</td>\n",
       "      <td>-0.002847</td>\n",
       "    </tr>\n",
       "  </tbody>\n",
       "</table>\n",
       "<p>5 rows × 100 columns</p>\n",
       "</div>"
      ],
      "text/plain": [
       "         0         1         2         3         4         5         6   \\\n",
       "0 -0.199557  0.262728  0.140453  0.126231  0.076066 -0.490201  0.169265   \n",
       "1 -0.182087  0.225032  0.119098  0.109012  0.073934 -0.420796  0.130697   \n",
       "2 -0.200557  0.290213  0.146184  0.143430  0.054120 -0.527835  0.166102   \n",
       "3 -0.281285  0.354928  0.188927  0.175514  0.107097 -0.665953  0.223738   \n",
       "4 -0.241334  0.290233  0.165663  0.145448  0.097039 -0.558744  0.186864   \n",
       "\n",
       "         7         8         9   ...        90        91        92        93  \\\n",
       "0  0.486570 -0.262596 -0.158662  ...  0.382796  0.144859  0.059135  0.040921   \n",
       "1  0.422781 -0.225505 -0.132019  ...  0.336122  0.115900  0.045137  0.029396   \n",
       "2  0.485733 -0.286185 -0.196777  ...  0.370795  0.141367  0.033377  0.032064   \n",
       "3  0.669136 -0.356880 -0.208749  ...  0.527517  0.193783  0.082619  0.060925   \n",
       "4  0.565717 -0.302588 -0.178086  ...  0.443885  0.161164  0.074178  0.053702   \n",
       "\n",
       "         94        95        96        97        98        99  \n",
       "0  0.482592  0.185473  0.135428 -0.241599  0.183057  0.007152  \n",
       "1  0.400762  0.153643  0.115656 -0.216398  0.162219  0.001012  \n",
       "2  0.501388  0.170128  0.082857 -0.272957  0.207053  0.038301  \n",
       "3  0.643466  0.255542  0.200216 -0.333914  0.251997 -0.001207  \n",
       "4  0.545903  0.216509  0.163407 -0.289041  0.209333 -0.002847  \n",
       "\n",
       "[5 rows x 100 columns]"
      ]
     },
     "execution_count": 483,
     "metadata": {},
     "output_type": "execute_result"
    }
   ],
   "source": [
    "df.head()"
   ]
  },
  {
   "cell_type": "code",
   "execution_count": 484,
   "id": "684424ac-9199-4ffc-a8c4-867377fa613a",
   "metadata": {},
   "outputs": [],
   "source": [
    "X =df"
   ]
  },
  {
   "cell_type": "code",
   "execution_count": 485,
   "id": "44771004-81bf-4558-bbd9-7d4cbdfe66b7",
   "metadata": {},
   "outputs": [],
   "source": [
    "from sklearn.model_selection import train_test_split\n",
    "X_train, X_test, y_train, y_test = train_test_split(X,y, test_size = 0.2, random_state =42)"
   ]
  },
  {
   "cell_type": "code",
   "execution_count": 486,
   "id": "28e268d8-4773-4f9e-a16b-2a47f9ed30b2",
   "metadata": {},
   "outputs": [
    {
     "data": {
      "text/plain": [
       "(5569,)"
      ]
     },
     "execution_count": 486,
     "metadata": {},
     "output_type": "execute_result"
    }
   ],
   "source": [
    "y.shape"
   ]
  },
  {
   "cell_type": "code",
   "execution_count": 487,
   "id": "0df210f0-f535-4ce4-9af5-ef6c375d09ec",
   "metadata": {},
   "outputs": [],
   "source": [
    "from sklearn.ensemble import RandomForestClassifier"
   ]
  },
  {
   "cell_type": "code",
   "execution_count": 488,
   "id": "a1f11351-5fad-4a17-9cbb-30fa0e48599b",
   "metadata": {},
   "outputs": [],
   "source": [
    "classifier = RandomForestClassifier()"
   ]
  },
  {
   "cell_type": "code",
   "execution_count": 489,
   "id": "7172ca36-a108-4487-81a4-dafaf91184a2",
   "metadata": {},
   "outputs": [
    {
     "data": {
      "text/html": [
       "<style>#sk-container-id-1 {\n",
       "  /* Definition of color scheme common for light and dark mode */\n",
       "  --sklearn-color-text: black;\n",
       "  --sklearn-color-line: gray;\n",
       "  /* Definition of color scheme for unfitted estimators */\n",
       "  --sklearn-color-unfitted-level-0: #fff5e6;\n",
       "  --sklearn-color-unfitted-level-1: #f6e4d2;\n",
       "  --sklearn-color-unfitted-level-2: #ffe0b3;\n",
       "  --sklearn-color-unfitted-level-3: chocolate;\n",
       "  /* Definition of color scheme for fitted estimators */\n",
       "  --sklearn-color-fitted-level-0: #f0f8ff;\n",
       "  --sklearn-color-fitted-level-1: #d4ebff;\n",
       "  --sklearn-color-fitted-level-2: #b3dbfd;\n",
       "  --sklearn-color-fitted-level-3: cornflowerblue;\n",
       "\n",
       "  /* Specific color for light theme */\n",
       "  --sklearn-color-text-on-default-background: var(--sg-text-color, var(--theme-code-foreground, var(--jp-content-font-color1, black)));\n",
       "  --sklearn-color-background: var(--sg-background-color, var(--theme-background, var(--jp-layout-color0, white)));\n",
       "  --sklearn-color-border-box: var(--sg-text-color, var(--theme-code-foreground, var(--jp-content-font-color1, black)));\n",
       "  --sklearn-color-icon: #696969;\n",
       "\n",
       "  @media (prefers-color-scheme: dark) {\n",
       "    /* Redefinition of color scheme for dark theme */\n",
       "    --sklearn-color-text-on-default-background: var(--sg-text-color, var(--theme-code-foreground, var(--jp-content-font-color1, white)));\n",
       "    --sklearn-color-background: var(--sg-background-color, var(--theme-background, var(--jp-layout-color0, #111)));\n",
       "    --sklearn-color-border-box: var(--sg-text-color, var(--theme-code-foreground, var(--jp-content-font-color1, white)));\n",
       "    --sklearn-color-icon: #878787;\n",
       "  }\n",
       "}\n",
       "\n",
       "#sk-container-id-1 {\n",
       "  color: var(--sklearn-color-text);\n",
       "}\n",
       "\n",
       "#sk-container-id-1 pre {\n",
       "  padding: 0;\n",
       "}\n",
       "\n",
       "#sk-container-id-1 input.sk-hidden--visually {\n",
       "  border: 0;\n",
       "  clip: rect(1px 1px 1px 1px);\n",
       "  clip: rect(1px, 1px, 1px, 1px);\n",
       "  height: 1px;\n",
       "  margin: -1px;\n",
       "  overflow: hidden;\n",
       "  padding: 0;\n",
       "  position: absolute;\n",
       "  width: 1px;\n",
       "}\n",
       "\n",
       "#sk-container-id-1 div.sk-dashed-wrapped {\n",
       "  border: 1px dashed var(--sklearn-color-line);\n",
       "  margin: 0 0.4em 0.5em 0.4em;\n",
       "  box-sizing: border-box;\n",
       "  padding-bottom: 0.4em;\n",
       "  background-color: var(--sklearn-color-background);\n",
       "}\n",
       "\n",
       "#sk-container-id-1 div.sk-container {\n",
       "  /* jupyter's `normalize.less` sets `[hidden] { display: none; }`\n",
       "     but bootstrap.min.css set `[hidden] { display: none !important; }`\n",
       "     so we also need the `!important` here to be able to override the\n",
       "     default hidden behavior on the sphinx rendered scikit-learn.org.\n",
       "     See: https://github.com/scikit-learn/scikit-learn/issues/21755 */\n",
       "  display: inline-block !important;\n",
       "  position: relative;\n",
       "}\n",
       "\n",
       "#sk-container-id-1 div.sk-text-repr-fallback {\n",
       "  display: none;\n",
       "}\n",
       "\n",
       "div.sk-parallel-item,\n",
       "div.sk-serial,\n",
       "div.sk-item {\n",
       "  /* draw centered vertical line to link estimators */\n",
       "  background-image: linear-gradient(var(--sklearn-color-text-on-default-background), var(--sklearn-color-text-on-default-background));\n",
       "  background-size: 2px 100%;\n",
       "  background-repeat: no-repeat;\n",
       "  background-position: center center;\n",
       "}\n",
       "\n",
       "/* Parallel-specific style estimator block */\n",
       "\n",
       "#sk-container-id-1 div.sk-parallel-item::after {\n",
       "  content: \"\";\n",
       "  width: 100%;\n",
       "  border-bottom: 2px solid var(--sklearn-color-text-on-default-background);\n",
       "  flex-grow: 1;\n",
       "}\n",
       "\n",
       "#sk-container-id-1 div.sk-parallel {\n",
       "  display: flex;\n",
       "  align-items: stretch;\n",
       "  justify-content: center;\n",
       "  background-color: var(--sklearn-color-background);\n",
       "  position: relative;\n",
       "}\n",
       "\n",
       "#sk-container-id-1 div.sk-parallel-item {\n",
       "  display: flex;\n",
       "  flex-direction: column;\n",
       "}\n",
       "\n",
       "#sk-container-id-1 div.sk-parallel-item:first-child::after {\n",
       "  align-self: flex-end;\n",
       "  width: 50%;\n",
       "}\n",
       "\n",
       "#sk-container-id-1 div.sk-parallel-item:last-child::after {\n",
       "  align-self: flex-start;\n",
       "  width: 50%;\n",
       "}\n",
       "\n",
       "#sk-container-id-1 div.sk-parallel-item:only-child::after {\n",
       "  width: 0;\n",
       "}\n",
       "\n",
       "/* Serial-specific style estimator block */\n",
       "\n",
       "#sk-container-id-1 div.sk-serial {\n",
       "  display: flex;\n",
       "  flex-direction: column;\n",
       "  align-items: center;\n",
       "  background-color: var(--sklearn-color-background);\n",
       "  padding-right: 1em;\n",
       "  padding-left: 1em;\n",
       "}\n",
       "\n",
       "\n",
       "/* Toggleable style: style used for estimator/Pipeline/ColumnTransformer box that is\n",
       "clickable and can be expanded/collapsed.\n",
       "- Pipeline and ColumnTransformer use this feature and define the default style\n",
       "- Estimators will overwrite some part of the style using the `sk-estimator` class\n",
       "*/\n",
       "\n",
       "/* Pipeline and ColumnTransformer style (default) */\n",
       "\n",
       "#sk-container-id-1 div.sk-toggleable {\n",
       "  /* Default theme specific background. It is overwritten whether we have a\n",
       "  specific estimator or a Pipeline/ColumnTransformer */\n",
       "  background-color: var(--sklearn-color-background);\n",
       "}\n",
       "\n",
       "/* Toggleable label */\n",
       "#sk-container-id-1 label.sk-toggleable__label {\n",
       "  cursor: pointer;\n",
       "  display: block;\n",
       "  width: 100%;\n",
       "  margin-bottom: 0;\n",
       "  padding: 0.5em;\n",
       "  box-sizing: border-box;\n",
       "  text-align: center;\n",
       "}\n",
       "\n",
       "#sk-container-id-1 label.sk-toggleable__label-arrow:before {\n",
       "  /* Arrow on the left of the label */\n",
       "  content: \"▸\";\n",
       "  float: left;\n",
       "  margin-right: 0.25em;\n",
       "  color: var(--sklearn-color-icon);\n",
       "}\n",
       "\n",
       "#sk-container-id-1 label.sk-toggleable__label-arrow:hover:before {\n",
       "  color: var(--sklearn-color-text);\n",
       "}\n",
       "\n",
       "/* Toggleable content - dropdown */\n",
       "\n",
       "#sk-container-id-1 div.sk-toggleable__content {\n",
       "  max-height: 0;\n",
       "  max-width: 0;\n",
       "  overflow: hidden;\n",
       "  text-align: left;\n",
       "  /* unfitted */\n",
       "  background-color: var(--sklearn-color-unfitted-level-0);\n",
       "}\n",
       "\n",
       "#sk-container-id-1 div.sk-toggleable__content.fitted {\n",
       "  /* fitted */\n",
       "  background-color: var(--sklearn-color-fitted-level-0);\n",
       "}\n",
       "\n",
       "#sk-container-id-1 div.sk-toggleable__content pre {\n",
       "  margin: 0.2em;\n",
       "  border-radius: 0.25em;\n",
       "  color: var(--sklearn-color-text);\n",
       "  /* unfitted */\n",
       "  background-color: var(--sklearn-color-unfitted-level-0);\n",
       "}\n",
       "\n",
       "#sk-container-id-1 div.sk-toggleable__content.fitted pre {\n",
       "  /* unfitted */\n",
       "  background-color: var(--sklearn-color-fitted-level-0);\n",
       "}\n",
       "\n",
       "#sk-container-id-1 input.sk-toggleable__control:checked~div.sk-toggleable__content {\n",
       "  /* Expand drop-down */\n",
       "  max-height: 200px;\n",
       "  max-width: 100%;\n",
       "  overflow: auto;\n",
       "}\n",
       "\n",
       "#sk-container-id-1 input.sk-toggleable__control:checked~label.sk-toggleable__label-arrow:before {\n",
       "  content: \"▾\";\n",
       "}\n",
       "\n",
       "/* Pipeline/ColumnTransformer-specific style */\n",
       "\n",
       "#sk-container-id-1 div.sk-label input.sk-toggleable__control:checked~label.sk-toggleable__label {\n",
       "  color: var(--sklearn-color-text);\n",
       "  background-color: var(--sklearn-color-unfitted-level-2);\n",
       "}\n",
       "\n",
       "#sk-container-id-1 div.sk-label.fitted input.sk-toggleable__control:checked~label.sk-toggleable__label {\n",
       "  background-color: var(--sklearn-color-fitted-level-2);\n",
       "}\n",
       "\n",
       "/* Estimator-specific style */\n",
       "\n",
       "/* Colorize estimator box */\n",
       "#sk-container-id-1 div.sk-estimator input.sk-toggleable__control:checked~label.sk-toggleable__label {\n",
       "  /* unfitted */\n",
       "  background-color: var(--sklearn-color-unfitted-level-2);\n",
       "}\n",
       "\n",
       "#sk-container-id-1 div.sk-estimator.fitted input.sk-toggleable__control:checked~label.sk-toggleable__label {\n",
       "  /* fitted */\n",
       "  background-color: var(--sklearn-color-fitted-level-2);\n",
       "}\n",
       "\n",
       "#sk-container-id-1 div.sk-label label.sk-toggleable__label,\n",
       "#sk-container-id-1 div.sk-label label {\n",
       "  /* The background is the default theme color */\n",
       "  color: var(--sklearn-color-text-on-default-background);\n",
       "}\n",
       "\n",
       "/* On hover, darken the color of the background */\n",
       "#sk-container-id-1 div.sk-label:hover label.sk-toggleable__label {\n",
       "  color: var(--sklearn-color-text);\n",
       "  background-color: var(--sklearn-color-unfitted-level-2);\n",
       "}\n",
       "\n",
       "/* Label box, darken color on hover, fitted */\n",
       "#sk-container-id-1 div.sk-label.fitted:hover label.sk-toggleable__label.fitted {\n",
       "  color: var(--sklearn-color-text);\n",
       "  background-color: var(--sklearn-color-fitted-level-2);\n",
       "}\n",
       "\n",
       "/* Estimator label */\n",
       "\n",
       "#sk-container-id-1 div.sk-label label {\n",
       "  font-family: monospace;\n",
       "  font-weight: bold;\n",
       "  display: inline-block;\n",
       "  line-height: 1.2em;\n",
       "}\n",
       "\n",
       "#sk-container-id-1 div.sk-label-container {\n",
       "  text-align: center;\n",
       "}\n",
       "\n",
       "/* Estimator-specific */\n",
       "#sk-container-id-1 div.sk-estimator {\n",
       "  font-family: monospace;\n",
       "  border: 1px dotted var(--sklearn-color-border-box);\n",
       "  border-radius: 0.25em;\n",
       "  box-sizing: border-box;\n",
       "  margin-bottom: 0.5em;\n",
       "  /* unfitted */\n",
       "  background-color: var(--sklearn-color-unfitted-level-0);\n",
       "}\n",
       "\n",
       "#sk-container-id-1 div.sk-estimator.fitted {\n",
       "  /* fitted */\n",
       "  background-color: var(--sklearn-color-fitted-level-0);\n",
       "}\n",
       "\n",
       "/* on hover */\n",
       "#sk-container-id-1 div.sk-estimator:hover {\n",
       "  /* unfitted */\n",
       "  background-color: var(--sklearn-color-unfitted-level-2);\n",
       "}\n",
       "\n",
       "#sk-container-id-1 div.sk-estimator.fitted:hover {\n",
       "  /* fitted */\n",
       "  background-color: var(--sklearn-color-fitted-level-2);\n",
       "}\n",
       "\n",
       "/* Specification for estimator info (e.g. \"i\" and \"?\") */\n",
       "\n",
       "/* Common style for \"i\" and \"?\" */\n",
       "\n",
       ".sk-estimator-doc-link,\n",
       "a:link.sk-estimator-doc-link,\n",
       "a:visited.sk-estimator-doc-link {\n",
       "  float: right;\n",
       "  font-size: smaller;\n",
       "  line-height: 1em;\n",
       "  font-family: monospace;\n",
       "  background-color: var(--sklearn-color-background);\n",
       "  border-radius: 1em;\n",
       "  height: 1em;\n",
       "  width: 1em;\n",
       "  text-decoration: none !important;\n",
       "  margin-left: 1ex;\n",
       "  /* unfitted */\n",
       "  border: var(--sklearn-color-unfitted-level-1) 1pt solid;\n",
       "  color: var(--sklearn-color-unfitted-level-1);\n",
       "}\n",
       "\n",
       ".sk-estimator-doc-link.fitted,\n",
       "a:link.sk-estimator-doc-link.fitted,\n",
       "a:visited.sk-estimator-doc-link.fitted {\n",
       "  /* fitted */\n",
       "  border: var(--sklearn-color-fitted-level-1) 1pt solid;\n",
       "  color: var(--sklearn-color-fitted-level-1);\n",
       "}\n",
       "\n",
       "/* On hover */\n",
       "div.sk-estimator:hover .sk-estimator-doc-link:hover,\n",
       ".sk-estimator-doc-link:hover,\n",
       "div.sk-label-container:hover .sk-estimator-doc-link:hover,\n",
       ".sk-estimator-doc-link:hover {\n",
       "  /* unfitted */\n",
       "  background-color: var(--sklearn-color-unfitted-level-3);\n",
       "  color: var(--sklearn-color-background);\n",
       "  text-decoration: none;\n",
       "}\n",
       "\n",
       "div.sk-estimator.fitted:hover .sk-estimator-doc-link.fitted:hover,\n",
       ".sk-estimator-doc-link.fitted:hover,\n",
       "div.sk-label-container:hover .sk-estimator-doc-link.fitted:hover,\n",
       ".sk-estimator-doc-link.fitted:hover {\n",
       "  /* fitted */\n",
       "  background-color: var(--sklearn-color-fitted-level-3);\n",
       "  color: var(--sklearn-color-background);\n",
       "  text-decoration: none;\n",
       "}\n",
       "\n",
       "/* Span, style for the box shown on hovering the info icon */\n",
       ".sk-estimator-doc-link span {\n",
       "  display: none;\n",
       "  z-index: 9999;\n",
       "  position: relative;\n",
       "  font-weight: normal;\n",
       "  right: .2ex;\n",
       "  padding: .5ex;\n",
       "  margin: .5ex;\n",
       "  width: min-content;\n",
       "  min-width: 20ex;\n",
       "  max-width: 50ex;\n",
       "  color: var(--sklearn-color-text);\n",
       "  box-shadow: 2pt 2pt 4pt #999;\n",
       "  /* unfitted */\n",
       "  background: var(--sklearn-color-unfitted-level-0);\n",
       "  border: .5pt solid var(--sklearn-color-unfitted-level-3);\n",
       "}\n",
       "\n",
       ".sk-estimator-doc-link.fitted span {\n",
       "  /* fitted */\n",
       "  background: var(--sklearn-color-fitted-level-0);\n",
       "  border: var(--sklearn-color-fitted-level-3);\n",
       "}\n",
       "\n",
       ".sk-estimator-doc-link:hover span {\n",
       "  display: block;\n",
       "}\n",
       "\n",
       "/* \"?\"-specific style due to the `<a>` HTML tag */\n",
       "\n",
       "#sk-container-id-1 a.estimator_doc_link {\n",
       "  float: right;\n",
       "  font-size: 1rem;\n",
       "  line-height: 1em;\n",
       "  font-family: monospace;\n",
       "  background-color: var(--sklearn-color-background);\n",
       "  border-radius: 1rem;\n",
       "  height: 1rem;\n",
       "  width: 1rem;\n",
       "  text-decoration: none;\n",
       "  /* unfitted */\n",
       "  color: var(--sklearn-color-unfitted-level-1);\n",
       "  border: var(--sklearn-color-unfitted-level-1) 1pt solid;\n",
       "}\n",
       "\n",
       "#sk-container-id-1 a.estimator_doc_link.fitted {\n",
       "  /* fitted */\n",
       "  border: var(--sklearn-color-fitted-level-1) 1pt solid;\n",
       "  color: var(--sklearn-color-fitted-level-1);\n",
       "}\n",
       "\n",
       "/* On hover */\n",
       "#sk-container-id-1 a.estimator_doc_link:hover {\n",
       "  /* unfitted */\n",
       "  background-color: var(--sklearn-color-unfitted-level-3);\n",
       "  color: var(--sklearn-color-background);\n",
       "  text-decoration: none;\n",
       "}\n",
       "\n",
       "#sk-container-id-1 a.estimator_doc_link.fitted:hover {\n",
       "  /* fitted */\n",
       "  background-color: var(--sklearn-color-fitted-level-3);\n",
       "}\n",
       "</style><div id=\"sk-container-id-1\" class=\"sk-top-container\"><div class=\"sk-text-repr-fallback\"><pre>RandomForestClassifier()</pre><b>In a Jupyter environment, please rerun this cell to show the HTML representation or trust the notebook. <br />On GitHub, the HTML representation is unable to render, please try loading this page with nbviewer.org.</b></div><div class=\"sk-container\" hidden><div class=\"sk-item\"><div class=\"sk-estimator fitted sk-toggleable\"><input class=\"sk-toggleable__control sk-hidden--visually\" id=\"sk-estimator-id-1\" type=\"checkbox\" checked><label for=\"sk-estimator-id-1\" class=\"sk-toggleable__label fitted sk-toggleable__label-arrow fitted\">&nbsp;&nbsp;RandomForestClassifier<a class=\"sk-estimator-doc-link fitted\" rel=\"noreferrer\" target=\"_blank\" href=\"https://scikit-learn.org/1.5/modules/generated/sklearn.ensemble.RandomForestClassifier.html\">?<span>Documentation for RandomForestClassifier</span></a><span class=\"sk-estimator-doc-link fitted\">i<span>Fitted</span></span></label><div class=\"sk-toggleable__content fitted\"><pre>RandomForestClassifier()</pre></div> </div></div></div></div>"
      ],
      "text/plain": [
       "RandomForestClassifier()"
      ]
     },
     "execution_count": 489,
     "metadata": {},
     "output_type": "execute_result"
    }
   ],
   "source": [
    "classifier.fit(X_train,y_train)"
   ]
  },
  {
   "cell_type": "code",
   "execution_count": 490,
   "id": "fcab9cd8-2ba7-43d3-ae83-079c0cd218ea",
   "metadata": {},
   "outputs": [],
   "source": [
    "y_pred = classifier.predict(X_test)"
   ]
  },
  {
   "cell_type": "code",
   "execution_count": 492,
   "id": "2467e309-b522-46c3-ab5c-0a773f808bd2",
   "metadata": {},
   "outputs": [],
   "source": [
    "from sklearn.metrics import classification_report, accuracy_score"
   ]
  },
  {
   "cell_type": "code",
   "execution_count": 493,
   "id": "4247dd3f-e95f-46f1-9f1e-903ad15e7344",
   "metadata": {},
   "outputs": [
    {
     "name": "stdout",
     "output_type": "stream",
     "text": [
      "0.9757630161579892\n"
     ]
    }
   ],
   "source": [
    "print(accuracy_score(y_pred, y_test))"
   ]
  },
  {
   "cell_type": "code",
   "execution_count": 494,
   "id": "08954a27-cf06-4992-b1cc-c7ec06cf680a",
   "metadata": {},
   "outputs": [
    {
     "name": "stdout",
     "output_type": "stream",
     "text": [
      "              precision    recall  f1-score   support\n",
      "\n",
      "       False       0.89      0.94      0.91       150\n",
      "        True       0.99      0.98      0.99       964\n",
      "\n",
      "    accuracy                           0.98      1114\n",
      "   macro avg       0.94      0.96      0.95      1114\n",
      "weighted avg       0.98      0.98      0.98      1114\n",
      "\n"
     ]
    }
   ],
   "source": [
    "print(classification_report(y_pred, y_test))"
   ]
  },
  {
   "cell_type": "code",
   "execution_count": null,
   "id": "2fe3b215-578c-434c-a404-983175fb4d1b",
   "metadata": {},
   "outputs": [],
   "source": []
  }
 ],
 "metadata": {
  "kernelspec": {
   "display_name": "Python 3 (ipykernel)",
   "language": "python",
   "name": "python3"
  },
  "language_info": {
   "codemirror_mode": {
    "name": "ipython",
    "version": 3
   },
   "file_extension": ".py",
   "mimetype": "text/x-python",
   "name": "python",
   "nbconvert_exporter": "python",
   "pygments_lexer": "ipython3",
   "version": "3.9.19"
  }
 },
 "nbformat": 4,
 "nbformat_minor": 5
}
