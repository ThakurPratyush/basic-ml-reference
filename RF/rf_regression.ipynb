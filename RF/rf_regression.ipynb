{
 "cells": [
  {
   "cell_type": "code",
   "execution_count": 156,
   "id": "bab8d4c7-dd7a-4480-bff0-2c60667bbc91",
   "metadata": {},
   "outputs": [],
   "source": [
    "## predic price of car"
   ]
  },
  {
   "cell_type": "code",
   "execution_count": 157,
   "id": "f93c13fb-fefd-4102-801c-bf6542fb8ed6",
   "metadata": {},
   "outputs": [],
   "source": [
    "import pandas as pd\n",
    "import numpy as np\n",
    "import matplotlib.pyplot as plt\n",
    "import seaborn as sns\n",
    "import plotly.express as px\n",
    "import warnings\n",
    "warnings.filterwarnings(\"ignore\")"
   ]
  },
  {
   "cell_type": "code",
   "execution_count": 158,
   "id": "3ec9a55c-3af4-4f99-882d-1c963584b92d",
   "metadata": {},
   "outputs": [],
   "source": [
    "df = pd.read_csv(\"cardekho_imputated.csv\")\n",
    "df.drop(\"Unnamed: 0\", axis = 1 ,inplace = True)"
   ]
  },
  {
   "cell_type": "code",
   "execution_count": 159,
   "id": "2ec25d00-4d84-47e5-8908-ad7548355e7e",
   "metadata": {},
   "outputs": [
    {
     "data": {
      "text/html": [
       "<div>\n",
       "<style scoped>\n",
       "    .dataframe tbody tr th:only-of-type {\n",
       "        vertical-align: middle;\n",
       "    }\n",
       "\n",
       "    .dataframe tbody tr th {\n",
       "        vertical-align: top;\n",
       "    }\n",
       "\n",
       "    .dataframe thead th {\n",
       "        text-align: right;\n",
       "    }\n",
       "</style>\n",
       "<table border=\"1\" class=\"dataframe\">\n",
       "  <thead>\n",
       "    <tr style=\"text-align: right;\">\n",
       "      <th></th>\n",
       "      <th>car_name</th>\n",
       "      <th>brand</th>\n",
       "      <th>model</th>\n",
       "      <th>vehicle_age</th>\n",
       "      <th>km_driven</th>\n",
       "      <th>seller_type</th>\n",
       "      <th>fuel_type</th>\n",
       "      <th>transmission_type</th>\n",
       "      <th>mileage</th>\n",
       "      <th>engine</th>\n",
       "      <th>max_power</th>\n",
       "      <th>seats</th>\n",
       "      <th>selling_price</th>\n",
       "    </tr>\n",
       "  </thead>\n",
       "  <tbody>\n",
       "    <tr>\n",
       "      <th>0</th>\n",
       "      <td>Maruti Alto</td>\n",
       "      <td>Maruti</td>\n",
       "      <td>Alto</td>\n",
       "      <td>9</td>\n",
       "      <td>120000</td>\n",
       "      <td>Individual</td>\n",
       "      <td>Petrol</td>\n",
       "      <td>Manual</td>\n",
       "      <td>19.70</td>\n",
       "      <td>796</td>\n",
       "      <td>46.30</td>\n",
       "      <td>5</td>\n",
       "      <td>120000</td>\n",
       "    </tr>\n",
       "    <tr>\n",
       "      <th>1</th>\n",
       "      <td>Hyundai Grand</td>\n",
       "      <td>Hyundai</td>\n",
       "      <td>Grand</td>\n",
       "      <td>5</td>\n",
       "      <td>20000</td>\n",
       "      <td>Individual</td>\n",
       "      <td>Petrol</td>\n",
       "      <td>Manual</td>\n",
       "      <td>18.90</td>\n",
       "      <td>1197</td>\n",
       "      <td>82.00</td>\n",
       "      <td>5</td>\n",
       "      <td>550000</td>\n",
       "    </tr>\n",
       "    <tr>\n",
       "      <th>2</th>\n",
       "      <td>Hyundai i20</td>\n",
       "      <td>Hyundai</td>\n",
       "      <td>i20</td>\n",
       "      <td>11</td>\n",
       "      <td>60000</td>\n",
       "      <td>Individual</td>\n",
       "      <td>Petrol</td>\n",
       "      <td>Manual</td>\n",
       "      <td>17.00</td>\n",
       "      <td>1197</td>\n",
       "      <td>80.00</td>\n",
       "      <td>5</td>\n",
       "      <td>215000</td>\n",
       "    </tr>\n",
       "    <tr>\n",
       "      <th>3</th>\n",
       "      <td>Maruti Alto</td>\n",
       "      <td>Maruti</td>\n",
       "      <td>Alto</td>\n",
       "      <td>9</td>\n",
       "      <td>37000</td>\n",
       "      <td>Individual</td>\n",
       "      <td>Petrol</td>\n",
       "      <td>Manual</td>\n",
       "      <td>20.92</td>\n",
       "      <td>998</td>\n",
       "      <td>67.10</td>\n",
       "      <td>5</td>\n",
       "      <td>226000</td>\n",
       "    </tr>\n",
       "    <tr>\n",
       "      <th>4</th>\n",
       "      <td>Ford Ecosport</td>\n",
       "      <td>Ford</td>\n",
       "      <td>Ecosport</td>\n",
       "      <td>6</td>\n",
       "      <td>30000</td>\n",
       "      <td>Dealer</td>\n",
       "      <td>Diesel</td>\n",
       "      <td>Manual</td>\n",
       "      <td>22.77</td>\n",
       "      <td>1498</td>\n",
       "      <td>98.59</td>\n",
       "      <td>5</td>\n",
       "      <td>570000</td>\n",
       "    </tr>\n",
       "  </tbody>\n",
       "</table>\n",
       "</div>"
      ],
      "text/plain": [
       "        car_name    brand     model  vehicle_age  km_driven seller_type  \\\n",
       "0    Maruti Alto   Maruti      Alto            9     120000  Individual   \n",
       "1  Hyundai Grand  Hyundai     Grand            5      20000  Individual   \n",
       "2    Hyundai i20  Hyundai       i20           11      60000  Individual   \n",
       "3    Maruti Alto   Maruti      Alto            9      37000  Individual   \n",
       "4  Ford Ecosport     Ford  Ecosport            6      30000      Dealer   \n",
       "\n",
       "  fuel_type transmission_type  mileage  engine  max_power  seats  \\\n",
       "0    Petrol            Manual    19.70     796      46.30      5   \n",
       "1    Petrol            Manual    18.90    1197      82.00      5   \n",
       "2    Petrol            Manual    17.00    1197      80.00      5   \n",
       "3    Petrol            Manual    20.92     998      67.10      5   \n",
       "4    Diesel            Manual    22.77    1498      98.59      5   \n",
       "\n",
       "   selling_price  \n",
       "0         120000  \n",
       "1         550000  \n",
       "2         215000  \n",
       "3         226000  \n",
       "4         570000  "
      ]
     },
     "execution_count": 159,
     "metadata": {},
     "output_type": "execute_result"
    }
   ],
   "source": [
    "df.head()"
   ]
  },
  {
   "cell_type": "markdown",
   "id": "54a2da81-cffa-4003-ba05-5413d44e5dbf",
   "metadata": {},
   "source": [
    "### data cleaning"
   ]
  },
  {
   "cell_type": "code",
   "execution_count": 160,
   "id": "1dacb797-f1ad-4961-8d9d-7b5f2129fcfb",
   "metadata": {},
   "outputs": [
    {
     "data": {
      "text/plain": [
       "car_name             0\n",
       "brand                0\n",
       "model                0\n",
       "vehicle_age          0\n",
       "km_driven            0\n",
       "seller_type          0\n",
       "fuel_type            0\n",
       "transmission_type    0\n",
       "mileage              0\n",
       "engine               0\n",
       "max_power            0\n",
       "seats                0\n",
       "selling_price        0\n",
       "dtype: int64"
      ]
     },
     "execution_count": 160,
     "metadata": {},
     "output_type": "execute_result"
    }
   ],
   "source": [
    "df.isnull().sum()"
   ]
  },
  {
   "cell_type": "code",
   "execution_count": 161,
   "id": "c5ae4123-8a5a-478a-b535-b1063e091564",
   "metadata": {},
   "outputs": [],
   "source": [
    "## droping car name and brand since model has the mian info\n",
    "df.drop(['car_name','brand'], axis = 1 ,inplace= True)"
   ]
  },
  {
   "cell_type": "code",
   "execution_count": 162,
   "id": "22181475-1194-4a83-a153-af371a41af35",
   "metadata": {},
   "outputs": [
    {
     "data": {
      "text/html": [
       "<div>\n",
       "<style scoped>\n",
       "    .dataframe tbody tr th:only-of-type {\n",
       "        vertical-align: middle;\n",
       "    }\n",
       "\n",
       "    .dataframe tbody tr th {\n",
       "        vertical-align: top;\n",
       "    }\n",
       "\n",
       "    .dataframe thead th {\n",
       "        text-align: right;\n",
       "    }\n",
       "</style>\n",
       "<table border=\"1\" class=\"dataframe\">\n",
       "  <thead>\n",
       "    <tr style=\"text-align: right;\">\n",
       "      <th></th>\n",
       "      <th>model</th>\n",
       "      <th>vehicle_age</th>\n",
       "      <th>km_driven</th>\n",
       "      <th>seller_type</th>\n",
       "      <th>fuel_type</th>\n",
       "      <th>transmission_type</th>\n",
       "      <th>mileage</th>\n",
       "      <th>engine</th>\n",
       "      <th>max_power</th>\n",
       "      <th>seats</th>\n",
       "      <th>selling_price</th>\n",
       "    </tr>\n",
       "  </thead>\n",
       "  <tbody>\n",
       "    <tr>\n",
       "      <th>0</th>\n",
       "      <td>Alto</td>\n",
       "      <td>9</td>\n",
       "      <td>120000</td>\n",
       "      <td>Individual</td>\n",
       "      <td>Petrol</td>\n",
       "      <td>Manual</td>\n",
       "      <td>19.70</td>\n",
       "      <td>796</td>\n",
       "      <td>46.30</td>\n",
       "      <td>5</td>\n",
       "      <td>120000</td>\n",
       "    </tr>\n",
       "    <tr>\n",
       "      <th>1</th>\n",
       "      <td>Grand</td>\n",
       "      <td>5</td>\n",
       "      <td>20000</td>\n",
       "      <td>Individual</td>\n",
       "      <td>Petrol</td>\n",
       "      <td>Manual</td>\n",
       "      <td>18.90</td>\n",
       "      <td>1197</td>\n",
       "      <td>82.00</td>\n",
       "      <td>5</td>\n",
       "      <td>550000</td>\n",
       "    </tr>\n",
       "    <tr>\n",
       "      <th>2</th>\n",
       "      <td>i20</td>\n",
       "      <td>11</td>\n",
       "      <td>60000</td>\n",
       "      <td>Individual</td>\n",
       "      <td>Petrol</td>\n",
       "      <td>Manual</td>\n",
       "      <td>17.00</td>\n",
       "      <td>1197</td>\n",
       "      <td>80.00</td>\n",
       "      <td>5</td>\n",
       "      <td>215000</td>\n",
       "    </tr>\n",
       "    <tr>\n",
       "      <th>3</th>\n",
       "      <td>Alto</td>\n",
       "      <td>9</td>\n",
       "      <td>37000</td>\n",
       "      <td>Individual</td>\n",
       "      <td>Petrol</td>\n",
       "      <td>Manual</td>\n",
       "      <td>20.92</td>\n",
       "      <td>998</td>\n",
       "      <td>67.10</td>\n",
       "      <td>5</td>\n",
       "      <td>226000</td>\n",
       "    </tr>\n",
       "    <tr>\n",
       "      <th>4</th>\n",
       "      <td>Ecosport</td>\n",
       "      <td>6</td>\n",
       "      <td>30000</td>\n",
       "      <td>Dealer</td>\n",
       "      <td>Diesel</td>\n",
       "      <td>Manual</td>\n",
       "      <td>22.77</td>\n",
       "      <td>1498</td>\n",
       "      <td>98.59</td>\n",
       "      <td>5</td>\n",
       "      <td>570000</td>\n",
       "    </tr>\n",
       "  </tbody>\n",
       "</table>\n",
       "</div>"
      ],
      "text/plain": [
       "      model  vehicle_age  km_driven seller_type fuel_type transmission_type  \\\n",
       "0      Alto            9     120000  Individual    Petrol            Manual   \n",
       "1     Grand            5      20000  Individual    Petrol            Manual   \n",
       "2       i20           11      60000  Individual    Petrol            Manual   \n",
       "3      Alto            9      37000  Individual    Petrol            Manual   \n",
       "4  Ecosport            6      30000      Dealer    Diesel            Manual   \n",
       "\n",
       "   mileage  engine  max_power  seats  selling_price  \n",
       "0    19.70     796      46.30      5         120000  \n",
       "1    18.90    1197      82.00      5         550000  \n",
       "2    17.00    1197      80.00      5         215000  \n",
       "3    20.92     998      67.10      5         226000  \n",
       "4    22.77    1498      98.59      5         570000  "
      ]
     },
     "execution_count": 162,
     "metadata": {},
     "output_type": "execute_result"
    }
   ],
   "source": [
    "df.head()"
   ]
  },
  {
   "cell_type": "code",
   "execution_count": 163,
   "id": "0efacf3d-edef-4076-b3fb-18b88c16e481",
   "metadata": {},
   "outputs": [
    {
     "data": {
      "text/plain": [
       "array(['Alto', 'Grand', 'i20', 'Ecosport', 'Wagon R', 'i10', 'Venue',\n",
       "       'Swift', 'Verna', 'Duster', 'Cooper', 'Ciaz', 'C-Class', 'Innova',\n",
       "       'Baleno', 'Swift Dzire', 'Vento', 'Creta', 'City', 'Bolero',\n",
       "       'Fortuner', 'KWID', 'Amaze', 'Santro', 'XUV500', 'KUV100', 'Ignis',\n",
       "       'RediGO', 'Scorpio', 'Marazzo', 'Aspire', 'Figo', 'Vitara',\n",
       "       'Tiago', 'Polo', 'Seltos', 'Celerio', 'GO', '5', 'CR-V',\n",
       "       'Endeavour', 'KUV', 'Jazz', '3', 'A4', 'Tigor', 'Ertiga', 'Safari',\n",
       "       'Thar', 'Hexa', 'Rover', 'Eeco', 'A6', 'E-Class', 'Q7', 'Z4', '6',\n",
       "       'XF', 'X5', 'Hector', 'Civic', 'D-Max', 'Cayenne', 'X1', 'Rapid',\n",
       "       'Freestyle', 'Superb', 'Nexon', 'XUV300', 'Dzire VXI', 'S90',\n",
       "       'WR-V', 'XL6', 'Triber', 'ES', 'Wrangler', 'Camry', 'Elantra',\n",
       "       'Yaris', 'GL-Class', '7', 'S-Presso', 'Dzire LXI', 'Aura', 'XC',\n",
       "       'Ghibli', 'Continental', 'CR', 'Kicks', 'S-Class', 'Tucson',\n",
       "       'Harrier', 'X3', 'Octavia', 'Compass', 'CLS', 'redi-GO', 'Glanza',\n",
       "       'Macan', 'X4', 'Dzire ZXI', 'XC90', 'F-PACE', 'A8', 'MUX',\n",
       "       'GTC4Lusso', 'GLS', 'X-Trail', 'XE', 'XC60', 'Panamera', 'Alturas',\n",
       "       'Altroz', 'NX', 'Carnival', 'C', 'RX', 'Ghost', 'Quattroporte',\n",
       "       'Gurkha'], dtype=object)"
      ]
     },
     "execution_count": 163,
     "metadata": {},
     "output_type": "execute_result"
    }
   ],
   "source": [
    "df['model'].unique()"
   ]
  },
  {
   "cell_type": "code",
   "execution_count": 164,
   "id": "7f12c37e-e0da-40e2-9f59-d93a363e06f7",
   "metadata": {},
   "outputs": [
    {
     "name": "stdout",
     "output_type": "stream",
     "text": [
      "numerical features  7\n",
      "categorical features : 4\n",
      "discrete fratures :  2\n",
      "continuous features :  5\n"
     ]
    }
   ],
   "source": [
    "num_features = [features for features in df.columns if df[features].dtype != 'O']\n",
    "print(\"numerical features \",len(num_features))\n",
    "cat_features = [features for features in df.columns if df[features].dtype == 'O']\n",
    "print(\"categorical features :\", len(cat_features))\n",
    "\n",
    "discrete_features = [features for features in num_features if df[features].nunique() <= 25]\n",
    "print(\"discrete fratures : \",len(discrete_features))\n",
    "\n",
    "contin_features = [features for features  in num_features if features not in discrete_features]\n",
    "print(\"continuous features : \", len(contin_features))"
   ]
  },
  {
   "cell_type": "code",
   "execution_count": 165,
   "id": "a5fe67b3-e1fb-4e34-b54f-2085b727be5a",
   "metadata": {},
   "outputs": [],
   "source": [
    "### ind and dep features \n",
    "X = df.drop('selling_price', axis =1 )\n",
    "y = df['selling_price']"
   ]
  },
  {
   "cell_type": "code",
   "execution_count": 166,
   "id": "c6b9764f-6c38-4739-9cbe-224ab49dddb5",
   "metadata": {},
   "outputs": [],
   "source": [
    "# X_train.head()"
   ]
  },
  {
   "cell_type": "markdown",
   "id": "bd892ad6-252c-4caa-adb2-e98f2be9af50",
   "metadata": {},
   "source": [
    "### feature encoding scaling"
   ]
  },
  {
   "cell_type": "code",
   "execution_count": 167,
   "id": "5d924b53-6bd2-4867-91cb-424c08992dbd",
   "metadata": {},
   "outputs": [],
   "source": [
    "from sklearn.model_selection import train_test_split\n",
    "X_train, X_test, y_train, y_test = train_test_split(X,y, test_size = 0.2, random_state = 42)"
   ]
  },
  {
   "cell_type": "code",
   "execution_count": 168,
   "id": "00ba0694-4d2f-4d6f-a232-6bddbd10a448",
   "metadata": {},
   "outputs": [],
   "source": [
    "######## category encoding the models\n",
    "import category_encoders as ce\n",
    "tagret_encoder = ce.TargetEncoder(cols = ['model'], smoothing= 0.5)\n",
    "X_train['model'] = tagret_encoder.fit_transform(X_train['model'], y_train)"
   ]
  },
  {
   "cell_type": "code",
   "execution_count": 169,
   "id": "edca2ef9-a827-4acc-bdd3-e27e19631ada",
   "metadata": {},
   "outputs": [
    {
     "data": {
      "text/html": [
       "<div>\n",
       "<style scoped>\n",
       "    .dataframe tbody tr th:only-of-type {\n",
       "        vertical-align: middle;\n",
       "    }\n",
       "\n",
       "    .dataframe tbody tr th {\n",
       "        vertical-align: top;\n",
       "    }\n",
       "\n",
       "    .dataframe thead th {\n",
       "        text-align: right;\n",
       "    }\n",
       "</style>\n",
       "<table border=\"1\" class=\"dataframe\">\n",
       "  <thead>\n",
       "    <tr style=\"text-align: right;\">\n",
       "      <th></th>\n",
       "      <th>model</th>\n",
       "      <th>vehicle_age</th>\n",
       "      <th>km_driven</th>\n",
       "      <th>seller_type</th>\n",
       "      <th>fuel_type</th>\n",
       "      <th>transmission_type</th>\n",
       "      <th>mileage</th>\n",
       "      <th>engine</th>\n",
       "      <th>max_power</th>\n",
       "      <th>seats</th>\n",
       "    </tr>\n",
       "  </thead>\n",
       "  <tbody>\n",
       "    <tr>\n",
       "      <th>11210</th>\n",
       "      <td>772120.619728</td>\n",
       "      <td>7</td>\n",
       "      <td>70252</td>\n",
       "      <td>Dealer</td>\n",
       "      <td>Diesel</td>\n",
       "      <td>Automatic</td>\n",
       "      <td>11.20</td>\n",
       "      <td>2400</td>\n",
       "      <td>215.0</td>\n",
       "      <td>5</td>\n",
       "    </tr>\n",
       "    <tr>\n",
       "      <th>1347</th>\n",
       "      <td>456487.804878</td>\n",
       "      <td>2</td>\n",
       "      <td>10000</td>\n",
       "      <td>Individual</td>\n",
       "      <td>Petrol</td>\n",
       "      <td>Manual</td>\n",
       "      <td>23.84</td>\n",
       "      <td>1199</td>\n",
       "      <td>84.0</td>\n",
       "      <td>5</td>\n",
       "    </tr>\n",
       "    <tr>\n",
       "      <th>10363</th>\n",
       "      <td>772120.619827</td>\n",
       "      <td>2</td>\n",
       "      <td>6000</td>\n",
       "      <td>Dealer</td>\n",
       "      <td>Diesel</td>\n",
       "      <td>Automatic</td>\n",
       "      <td>19.00</td>\n",
       "      <td>1950</td>\n",
       "      <td>241.3</td>\n",
       "      <td>5</td>\n",
       "    </tr>\n",
       "    <tr>\n",
       "      <th>316</th>\n",
       "      <td>622130.578512</td>\n",
       "      <td>7</td>\n",
       "      <td>63000</td>\n",
       "      <td>Dealer</td>\n",
       "      <td>Petrol</td>\n",
       "      <td>Manual</td>\n",
       "      <td>17.80</td>\n",
       "      <td>1497</td>\n",
       "      <td>117.3</td>\n",
       "      <td>5</td>\n",
       "    </tr>\n",
       "    <tr>\n",
       "      <th>10638</th>\n",
       "      <td>278753.012048</td>\n",
       "      <td>10</td>\n",
       "      <td>80292</td>\n",
       "      <td>Dealer</td>\n",
       "      <td>Petrol</td>\n",
       "      <td>Manual</td>\n",
       "      <td>20.36</td>\n",
       "      <td>1197</td>\n",
       "      <td>78.9</td>\n",
       "      <td>5</td>\n",
       "    </tr>\n",
       "  </tbody>\n",
       "</table>\n",
       "</div>"
      ],
      "text/plain": [
       "               model  vehicle_age  km_driven seller_type fuel_type  \\\n",
       "11210  772120.619728            7      70252      Dealer    Diesel   \n",
       "1347   456487.804878            2      10000  Individual    Petrol   \n",
       "10363  772120.619827            2       6000      Dealer    Diesel   \n",
       "316    622130.578512            7      63000      Dealer    Petrol   \n",
       "10638  278753.012048           10      80292      Dealer    Petrol   \n",
       "\n",
       "      transmission_type  mileage  engine  max_power  seats  \n",
       "11210         Automatic    11.20    2400      215.0      5  \n",
       "1347             Manual    23.84    1199       84.0      5  \n",
       "10363         Automatic    19.00    1950      241.3      5  \n",
       "316              Manual    17.80    1497      117.3      5  \n",
       "10638            Manual    20.36    1197       78.9      5  "
      ]
     },
     "execution_count": 169,
     "metadata": {},
     "output_type": "execute_result"
    }
   ],
   "source": [
    "X_train.head()"
   ]
  },
  {
   "cell_type": "code",
   "execution_count": 170,
   "id": "8a28c875-7fcf-47f8-bd62-07ac9042c608",
   "metadata": {},
   "outputs": [],
   "source": [
    "X_test['model'] = tagret_encoder.transform(X_test['model'], y_test)"
   ]
  },
  {
   "cell_type": "code",
   "execution_count": 171,
   "id": "d4417c00-fed1-46a1-b5b2-d64b92464b13",
   "metadata": {},
   "outputs": [],
   "source": [
    "######### transformation for rrest of features\n",
    "num_features = X.select_dtypes(exclude = 'object').columns\n",
    "cat_features = X.select_dtypes(include = 'object').columns\n",
    "onehot_columns = ['seller_type', 'fuel_type', 'transmission_type']"
   ]
  },
  {
   "cell_type": "code",
   "execution_count": 172,
   "id": "4cb237a1-5368-4f72-bbe8-032b2e51a598",
   "metadata": {},
   "outputs": [
    {
     "data": {
      "text/plain": [
       "Index(['model', 'seller_type', 'fuel_type', 'transmission_type'], dtype='object')"
      ]
     },
     "execution_count": 172,
     "metadata": {},
     "output_type": "execute_result"
    }
   ],
   "source": [
    "cat_features"
   ]
  },
  {
   "cell_type": "code",
   "execution_count": 173,
   "id": "7cea49ae-637c-4fcb-9634-1004d5a71520",
   "metadata": {},
   "outputs": [],
   "source": [
    "from sklearn.preprocessing import OneHotEncoder , StandardScaler\n",
    "numeric_transformer = StandardScaler()\n",
    "oh_transformer = OneHotEncoder(drop = 'first')\n"
   ]
  },
  {
   "cell_type": "code",
   "execution_count": 174,
   "id": "a17f8ac3-c572-4e1a-9de3-5c6ff6218dd6",
   "metadata": {},
   "outputs": [],
   "source": [
    "\n",
    "from sklearn.compose import ColumnTransformer\n",
    "transformer = ColumnTransformer(\n",
    "   [ \n",
    " (\"standard sclaer\" , numeric_transformer , num_features),\n",
    "(\"ohe\" , oh_transformer, onehot_columns)\n",
    "   ], remainder= 'passthrough'\n",
    "    \n",
    ")## PASS THROUGH IS VERY IMPORTANT OTHERWISE AL THE COLUMN ON WHCH NOOPERATION PEFORMED WOULD BE REMOVED"
   ]
  },
  {
   "cell_type": "code",
   "execution_count": 175,
   "id": "7099a6b4-10ca-49c2-a54a-5bf3f3474721",
   "metadata": {},
   "outputs": [],
   "source": [
    "X_train = transformer.fit_transform(X_train)"
   ]
  },
  {
   "cell_type": "code",
   "execution_count": 176,
   "id": "6a763838-e376-43c9-a986-0b2cdcc7af9c",
   "metadata": {},
   "outputs": [],
   "source": [
    "X_test = transformer.transform(X_test)"
   ]
  },
  {
   "cell_type": "markdown",
   "id": "8f6a0990-22f2-487c-bb9e-51f5295f7ca5",
   "metadata": {},
   "source": [
    "### model training "
   ]
  },
  {
   "cell_type": "code",
   "execution_count": 186,
   "id": "a278d365-0afe-4e21-baef-d3fcb2b266e3",
   "metadata": {},
   "outputs": [],
   "source": [
    "from sklearn.ensemble import RandomForestRegressor\n",
    "from sklearn.linear_model import LinearRegression, Ridge, Lasso\n",
    "from sklearn.neighbors import KNeighborsRegressor\n",
    "from sklearn.tree import DecisionTreeRegressor\n",
    "from sklearn.metrics import r2_score , mean_absolute_error, mean_squared_error"
   ]
  },
  {
   "cell_type": "code",
   "execution_count": 197,
   "id": "192f581a-d641-49ea-97e7-24d263a585f9",
   "metadata": {},
   "outputs": [],
   "source": [
    "def evaluate_model(true, predicted):\n",
    "    mae = mean_absolute_error(true, predicted)\n",
    "    mse = mean_squared_error(true, predicted)\n",
    "    rms = np.sqrt(mean_squared_error(true, predicted))\n",
    "    r2_score_cal= r2_score(true, predicted)\n",
    "    return mae,  rms, r2_score_cal"
   ]
  },
  {
   "cell_type": "code",
   "execution_count": 207,
   "id": "884d172f-8ff6-4125-9f2c-885fe89c5fd1",
   "metadata": {},
   "outputs": [
    {
     "name": "stdout",
     "output_type": "stream",
     "text": [
      "Linear Regression\n",
      "model performace on training set: \n",
      " - root mean squared error 553521.9748\n",
      " - mean absolute error 262634.2392\n",
      " - r2_score 0.3929\n",
      "----------------------------------------------------\n",
      "model performace on test set: \n",
      " - root mean squared error 499957.6365\n",
      " - mean absolute error 274023.2593\n",
      " - r2_score 0.5287\n",
      "lasso\n",
      "model performace on training set: \n",
      " - root mean squared error 553521.9792\n",
      " - mean absolute error 262632.2049\n",
      " - r2_score 0.3929\n",
      "----------------------------------------------------\n",
      "model performace on test set: \n",
      " - root mean squared error 499956.7919\n",
      " - mean absolute error 274019.5113\n",
      " - r2_score 0.5287\n",
      "ridge\n",
      "model performace on training set: \n",
      " - root mean squared error 553522.6761\n",
      " - mean absolute error 262593.3032\n",
      " - r2_score 0.3927\n",
      "----------------------------------------------------\n",
      "model performace on test set: \n",
      " - root mean squared error 499946.9975\n",
      " - mean absolute error 273957.0995\n",
      " - r2_score 0.5287\n",
      "knn\n",
      "model performace on training set: \n",
      " - root mean squared error 327166.3361\n",
      " - mean absolute error 88221.3498\n",
      " - r2_score 0.8252\n",
      "----------------------------------------------------\n",
      "model performace on test set: \n",
      " - root mean squared error 268316.9143\n",
      " - mean absolute error 108923.2322\n",
      " - r2_score 0.8774\n",
      "dt\n",
      "model performace on training set: \n",
      " - root mean squared error 20797.2352\n",
      " - mean absolute error 5164.8199\n",
      " - r2_score 0.9995\n",
      "----------------------------------------------------\n",
      "model performace on test set: \n",
      " - root mean squared error 302856.0921\n",
      " - mean absolute error 125021.8591\n",
      " - r2_score 0.8836\n",
      "rf\n",
      "model performace on training set: \n",
      " - root mean squared error 111369.3286\n",
      " - mean absolute error 38378.0796\n",
      " - r2_score 0.9835\n",
      "----------------------------------------------------\n",
      "model performace on test set: \n",
      " - root mean squared error 223157.6861\n",
      " - mean absolute error 100461.9228\n",
      " - r2_score 0.9291\n"
     ]
    }
   ],
   "source": [
    "models = {\n",
    "    \"Linear Regression\": LinearRegression(),\n",
    "    \"lasso\" : Lasso(),\n",
    "    \"ridge\" : Ridge(),\n",
    "    \"knn\" : KNeighborsRegressor(),\n",
    "    \"dt\" : DecisionTreeRegressor(),\n",
    "    \"rf\"  : RandomForestRegressor()\n",
    "}\n",
    "for i in range(len(models)):\n",
    "    model = list(models.values())[i]\n",
    "    model.fit(X_train, y_train)\n",
    "\n",
    "    # model preidctons\n",
    "    y_train_pred = model.predict(X_train)\n",
    "    y_test_pred = model.predict(X_test)\n",
    "\n",
    "    model_train_mae, model_train_rms, model_train_r2 = evaluate_model(y_train_pred, y_train)\n",
    "    model_test_mae, model_test_rms, model_test_r2 = evaluate_model(y_test_pred, y_test)\n",
    "\n",
    "\n",
    "    print(list(models.keys())[i])\n",
    "\n",
    "    print(\"model performace on training set: \")\n",
    "    print(\" - root mean squared error {:.4f}\".format(model_train_rms))\n",
    "    print(\" - mean absolute error {:.4f}\".format(model_train_mae))\n",
    "    print(\" - r2_score {:.4f}\".format(model_train_r2))\n",
    "\n",
    "    print(\"----------------------------------------------------\")\n",
    "\n",
    "  \n",
    "    print(\"model performace on test set: \")\n",
    "    print(\" - root mean squared error {:.4f}\".format(model_test_rms))\n",
    "    print(\" - mean absolute error {:.4f}\".format(model_test_mae))\n",
    "    print(\" - r2_score {:.4f}\".format(model_test_r2))"
   ]
  },
  {
   "cell_type": "code",
   "execution_count": 218,
   "id": "a88a735f-f8da-4823-9689-2ad95e007bb4",
   "metadata": {},
   "outputs": [],
   "source": [
    "## best 2 models are knn and dt so we would do the parameter tuning on both\n",
    "knn_params = { \"n_neighbors\" : [2,3, 4, 6,10]}\n",
    "rf_params = {\n",
    "    \"max_depth\" : [5,8,15,None,10],\n",
    "    \"max_features\" : [5,7,\"auto\",8],\n",
    "    \"min_samples_split\" : [2,8,15,20],\n",
    "     \"n_estimators\" : [100,200,500,1000]\n",
    "}"
   ]
  },
  {
   "cell_type": "code",
   "execution_count": 219,
   "id": "27f3c6e5-302d-40cc-97c6-751ec522b37a",
   "metadata": {},
   "outputs": [],
   "source": [
    "random_cv_models = [\n",
    "    (\"knn\", KNeighborsRegressor(), knn_params),\n",
    "    (\"rf\", RandomForestRegressor(), rf_params)\n",
    "]"
   ]
  },
  {
   "cell_type": "code",
   "execution_count": 220,
   "id": "c127c5fa-00e9-4df3-93ab-4cdc9470bea0",
   "metadata": {},
   "outputs": [
    {
     "name": "stdout",
     "output_type": "stream",
     "text": [
      "Fitting 3 folds for each of 5 candidates, totalling 15 fits\n",
      "Fitting 3 folds for each of 100 candidates, totalling 300 fits\n",
      "--------------best params -----------for : , knn------------- are :\n",
      "{'n_estimators': 100, 'min_samples_split': 2, 'max_features': 8, 'max_depth': 15}\n",
      "--------------best params -----------for : , rf------------- are :\n",
      "{'n_estimators': 100, 'min_samples_split': 2, 'max_features': 8, 'max_depth': 15}\n"
     ]
    }
   ],
   "source": [
    "from sklearn.model_selection import RandomizedSearchCV\n",
    "\n",
    "model_param = {}\n",
    "for name, model, param in random_cv_models:\n",
    "    random = RandomizedSearchCV(estimator = model,\n",
    "                                param_distributions = param,\n",
    "                                n_iter = 100 ,\n",
    "                                cv = 3, verbose = 2, n_jobs = -1  \n",
    "                                \n",
    "    )\n",
    "    random.fit(X_train, y_train)\n",
    "    model_param[name]  = random.best_params_\n",
    "\n",
    "for model_name in model_param:\n",
    "    print(f\"--------------best params -----------for : , {model_name}------------- are :\" )\n",
    "    print(model_param[model_name])"
   ]
  },
  {
   "cell_type": "code",
   "execution_count": 229,
   "id": "a4ee8ea0-6bb1-4605-9e39-33606c8ee77e",
   "metadata": {},
   "outputs": [],
   "source": [
    "models = {\n",
    "\"random forest regressor\" : RandomForestRegressor(n_estimators = 100,min_samples_split =2 , max_features  = 8, max_depth = 15),\n",
    "\"knn\" : KNeighborsRegressor(n_neighbors= 4)\n",
    "}"
   ]
  },
  {
   "cell_type": "code",
   "execution_count": 224,
   "id": "dcc5df23-2487-443d-864b-41988d3a49b1",
   "metadata": {},
   "outputs": [
    {
     "name": "stdout",
     "output_type": "stream",
     "text": [
      "--------------best params -----------for : , knn------------- are :\n",
      "{'n_neighbors': 4}\n",
      "--------------best params -----------for : , rf------------- are :\n",
      "{'n_estimators': 100, 'min_samples_split': 2, 'max_features': 8, 'max_depth': 15}\n"
     ]
    }
   ],
   "source": [
    "for i in range(len(models)):\n",
    "    model = list(models.values())[i]\n",
    "    model.fit(X_train, y_train)\n",
    "\n",
    "    # make predictions \n",
    "    y_train_pred = model.predict(X_train)\n",
    "    y_test_pred = model.predict(X_test)\n",
    "\n",
    "    \n"
   ]
  },
  {
   "cell_type": "code",
   "execution_count": 230,
   "id": "7b8f92de-789f-4a5a-9c9f-7f8cb1252d04",
   "metadata": {},
   "outputs": [
    {
     "data": {
      "text/plain": [
       "[RandomForestRegressor(max_depth=15, max_features=8),\n",
       " KNeighborsRegressor(n_neighbors=4)]"
      ]
     },
     "execution_count": 230,
     "metadata": {},
     "output_type": "execute_result"
    }
   ],
   "source": [
    "list(models.values())"
   ]
  },
  {
   "cell_type": "code",
   "execution_count": 232,
   "id": "c562152f-0086-4697-88f7-37982a4d9ddf",
   "metadata": {},
   "outputs": [
    {
     "name": "stdout",
     "output_type": "stream",
     "text": [
      "random forest\n",
      "model performace on training set: \n",
      " - root mean squared error 136850.1308\n",
      " - mean absolute error 52333.1093\n",
      " - r2_score 0.9736\n",
      "----------------------------------------------------\n",
      "model performace on test set: \n",
      " - root mean squared error 206244.4781\n",
      " - mean absolute error 95754.7965\n",
      " - r2_score 0.9404\n",
      "knn\n",
      "model performace on training set: \n",
      " - root mean squared error 304494.6351\n",
      " - mean absolute error 83052.6444\n",
      " - r2_score 0.8514\n",
      "----------------------------------------------------\n",
      "model performace on test set: \n",
      " - root mean squared error 249976.1835\n",
      " - mean absolute error 106136.9202\n",
      " - r2_score 0.8972\n"
     ]
    }
   ],
   "source": [
    "models = {\n",
    "    \"random forest\" : RandomForestRegressor(max_depth=15, max_features=8),\n",
    "    \"knn\": KNeighborsRegressor(n_neighbors=4)\n",
    "}\n",
    "for i in range(len(models)):\n",
    "    model = list(models.values())[i]\n",
    "    model.fit(X_train, y_train)\n",
    "\n",
    "    # make predictions \n",
    "    y_train_pred = model.predict(X_train)\n",
    "    y_test_pred = model.predict(X_test)\n",
    "    \n",
    "    model_train_mae, model_train_rms, model_train_r2 = evaluate_model(y_train_pred, y_train)\n",
    "    model_test_mae, model_test_rms, model_test_r2 = evaluate_model(y_test_pred, y_test)\n",
    "\n",
    "\n",
    "    print(list(models.keys())[i])\n",
    "\n",
    "    print(\"model performace on training set: \")\n",
    "    print(\" - root mean squared error {:.4f}\".format(model_train_rms))\n",
    "    print(\" - mean absolute error {:.4f}\".format(model_train_mae))\n",
    "    print(\" - r2_score {:.4f}\".format(model_train_r2))\n",
    "\n",
    "    print(\"----------------------------------------------------\")\n",
    "\n",
    "  \n",
    "    print(\"model performace on test set: \")\n",
    "    print(\" - root mean squared error {:.4f}\".format(model_test_rms))\n",
    "    print(\" - mean absolute error {:.4f}\".format(model_test_mae))\n",
    "    print(\" - r2_score {:.4f}\".format(model_test_r2))"
   ]
  },
  {
   "cell_type": "code",
   "execution_count": null,
   "id": "036b50ab-04de-43cc-af7a-dba6caa4acac",
   "metadata": {},
   "outputs": [],
   "source": []
  }
 ],
 "metadata": {
  "kernelspec": {
   "display_name": "Python 3 (ipykernel)",
   "language": "python",
   "name": "python3"
  },
  "language_info": {
   "codemirror_mode": {
    "name": "ipython",
    "version": 3
   },
   "file_extension": ".py",
   "mimetype": "text/x-python",
   "name": "python",
   "nbconvert_exporter": "python",
   "pygments_lexer": "ipython3",
   "version": "3.12.4"
  }
 },
 "nbformat": 4,
 "nbformat_minor": 5
}
