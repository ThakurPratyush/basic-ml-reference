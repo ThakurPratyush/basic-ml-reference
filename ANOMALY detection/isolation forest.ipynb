{
 "cells": [
  {
   "cell_type": "markdown",
   "id": "8bc4b6c6-76dd-4727-8963-71d66022eec6",
   "metadata": {},
   "source": [
    "Internally isolation forest tries to make a number of decision trees by considering various features\n",
    "for every datapoint it reaches until the leaf, leaf node is created that is , no matter how many splits would happen\n",
    "\n",
    "make data point completely isolated\n",
    "\n",
    "\n",
    "outlier would get split very quicly compared to a normal data point \n",
    "\n",
    "\n",
    "for eveydata point we comppute ::::::::::  anomaly score ::::: if > threshold then consider outlier\n",
    "\n",
    "s(x,m) x: point \n",
    "m : total nu of points\n",
    "\n",
    "= 2power -E(h(x))/c(m)\n",
    "\n",
    "E(h(x)) : avg search depth for x from the isolated tree  : only comoputing for x data point here\n",
    "c(m) : avg depth of h(x) : \n",
    "\n",
    "lot of isloated trees are created in an isolation forest based on changing various params\n",
    "\n",
    "with respoect to every data point for h(x) \n",
    "\n",
    "\n",
    "E(hx) << c(m) ::::::::::::;; if outlier found :::: s(x,m) close to 1 \n",
    "\n",
    "thresold is taken ex 0.5 if s(x,m) > 0,5 then outlier\n",
    "\n"
   ]
  },
  {
   "cell_type": "code",
   "execution_count": 18,
   "id": "172fe857-42ee-42f0-bbbe-a82627d6c8ad",
   "metadata": {},
   "outputs": [],
   "source": [
    "import pandas as pd\n",
    "import numpy as np\n",
    "df = pd.read_csv(\"healthcare.csv\")"
   ]
  },
  {
   "cell_type": "code",
   "execution_count": 19,
   "id": "4f87582f-497c-4d8a-a2a2-be620291e90f",
   "metadata": {},
   "outputs": [
    {
     "data": {
      "text/html": [
       "<div>\n",
       "<style scoped>\n",
       "    .dataframe tbody tr th:only-of-type {\n",
       "        vertical-align: middle;\n",
       "    }\n",
       "\n",
       "    .dataframe tbody tr th {\n",
       "        vertical-align: top;\n",
       "    }\n",
       "\n",
       "    .dataframe thead th {\n",
       "        text-align: right;\n",
       "    }\n",
       "</style>\n",
       "<table border=\"1\" class=\"dataframe\">\n",
       "  <thead>\n",
       "    <tr style=\"text-align: right;\">\n",
       "      <th></th>\n",
       "      <th>0</th>\n",
       "      <th>1</th>\n",
       "    </tr>\n",
       "  </thead>\n",
       "  <tbody>\n",
       "    <tr>\n",
       "      <th>0</th>\n",
       "      <td>1.616671</td>\n",
       "      <td>1.944522</td>\n",
       "    </tr>\n",
       "    <tr>\n",
       "      <th>1</th>\n",
       "      <td>1.256461</td>\n",
       "      <td>1.609444</td>\n",
       "    </tr>\n",
       "    <tr>\n",
       "      <th>2</th>\n",
       "      <td>-2.343919</td>\n",
       "      <td>4.392961</td>\n",
       "    </tr>\n",
       "    <tr>\n",
       "      <th>3</th>\n",
       "      <td>1.195393</td>\n",
       "      <td>2.794485</td>\n",
       "    </tr>\n",
       "    <tr>\n",
       "      <th>4</th>\n",
       "      <td>-3.329586</td>\n",
       "      <td>5.303160</td>\n",
       "    </tr>\n",
       "  </tbody>\n",
       "</table>\n",
       "</div>"
      ],
      "text/plain": [
       "          0         1\n",
       "0  1.616671  1.944522\n",
       "1  1.256461  1.609444\n",
       "2 -2.343919  4.392961\n",
       "3  1.195393  2.794485\n",
       "4 -3.329586  5.303160"
      ]
     },
     "execution_count": 19,
     "metadata": {},
     "output_type": "execute_result"
    }
   ],
   "source": [
    "df.head()"
   ]
  },
  {
   "cell_type": "code",
   "execution_count": 20,
   "id": "dba70ee8-4c67-4e01-81c0-2382581f9b11",
   "metadata": {},
   "outputs": [],
   "source": [
    "import matplotlib.pyplot as plt"
   ]
  },
  {
   "cell_type": "code",
   "execution_count": 21,
   "id": "a06913d3-bb95-4fe1-8b30-d27e8830e8c2",
   "metadata": {},
   "outputs": [
    {
     "data": {
      "text/plain": [
       "<matplotlib.collections.PathCollection at 0x1e8ab23be60>"
      ]
     },
     "execution_count": 21,
     "metadata": {},
     "output_type": "execute_result"
    },
    {
     "data": {
      "image/png": "[encoded data removed]",
      "text/plain": [
       "<Figure size 640x480 with 1 Axes>"
      ]
     },
     "metadata": {},
     "output_type": "display_data"
    }
   ],
   "source": [
    "plt.scatter(df.iloc[:,0], df.iloc[:,1])"
   ]
  },
  {
   "cell_type": "code",
   "execution_count": 22,
   "id": "68e2977f-9eef-41ee-9750-45d3184d6d45",
   "metadata": {},
   "outputs": [],
   "source": [
    "from sklearn.ensemble import IsolationForest"
   ]
  },
  {
   "cell_type": "code",
   "execution_count": 23,
   "id": "0e2c296b-f019-4f10-9556-163693253ded",
   "metadata": {},
   "outputs": [],
   "source": [
    "clf = IsolationForest(contamination = 0.2)\n",
    "#threshold level"
   ]
  },
  {
   "cell_type": "code",
   "execution_count": 24,
   "id": "06d41943-d7e0-4364-b6f1-5050b2cc8c57",
   "metadata": {},
   "outputs": [],
   "source": [
    "clf.fit(df)\n",
    "predictions = clf.predict(df)"
   ]
  },
  {
   "cell_type": "code",
   "execution_count": 25,
   "id": "2c167bc7-9de1-44d8-9ddc-58fa3baa9eab",
   "metadata": {},
   "outputs": [
    {
     "data": {
      "text/plain": [
       "array([ 1,  1,  1,  1, -1,  1,  1,  1,  1,  1,  1,  1,  1,  1,  1,  1,  1,\n",
       "        1,  1,  1, -1,  1,  1,  1, -1,  1,  1,  1,  1,  1,  1,  1,  1,  1,\n",
       "        1,  1,  1,  1,  1,  1,  1,  1,  1,  1,  1, -1,  1,  1, -1, -1,  1,\n",
       "        1,  1, -1,  1, -1,  1,  1,  1,  1,  1, -1, -1, -1,  1,  1,  1, -1,\n",
       "        1,  1,  1,  1, -1,  1, -1,  1,  1,  1, -1,  1,  1,  1,  1, -1,  1,\n",
       "       -1,  1, -1,  1, -1,  1,  1, -1,  1,  1,  1,  1, -1,  1,  1,  1,  1,\n",
       "        1,  1, -1,  1,  1,  1, -1,  1,  1,  1,  1,  1, -1,  1,  1,  1,  1,\n",
       "       -1,  1,  1,  1,  1,  1,  1,  1,  1,  1,  1, -1,  1, -1, -1,  1,  1,\n",
       "        1,  1,  1,  1,  1, -1,  1,  1,  1,  1,  1,  1,  1,  1,  1, -1,  1,\n",
       "        1,  1,  1,  1,  1,  1,  1, -1,  1,  1,  1,  1,  1, -1, -1,  1,  1,\n",
       "        1,  1,  1,  1,  1,  1,  1, -1,  1, -1,  1,  1, -1,  1,  1,  1,  1,\n",
       "       -1,  1,  1, -1,  1,  1,  1,  1,  1,  1,  1,  1, -1,  1,  1,  1,  1,\n",
       "       -1,  1,  1,  1,  1, -1,  1,  1, -1,  1,  1,  1,  1, -1,  1,  1, -1,\n",
       "       -1,  1,  1,  1,  1,  1, -1,  1,  1,  1,  1,  1,  1,  1,  1,  1,  1,\n",
       "        1,  1,  1,  1, -1,  1, -1,  1,  1, -1, -1,  1])"
      ]
     },
     "execution_count": 25,
     "metadata": {},
     "output_type": "execute_result"
    }
   ],
   "source": [
    "predictions"
   ]
  },
  {
   "cell_type": "code",
   "execution_count": 26,
   "id": "71d892f7-8e67-42dc-889b-a59bb3b2ec83",
   "metadata": {},
   "outputs": [],
   "source": [
    "#1's normal points \n",
    "# -1 : anomaly"
   ]
  },
  {
   "cell_type": "code",
   "execution_count": 27,
   "id": "cedc448e-fe77-4e1a-8bdf-137d56887140",
   "metadata": {},
   "outputs": [
    {
     "data": {
      "text/plain": [
       "numpy.ndarray"
      ]
     },
     "execution_count": 27,
     "metadata": {},
     "output_type": "execute_result"
    }
   ],
   "source": [
    "type(predictions)"
   ]
  },
  {
   "cell_type": "code",
   "execution_count": 28,
   "id": "5565f06e-dcad-464f-bf5d-6696f9862b3a",
   "metadata": {},
   "outputs": [],
   "source": [
    "## index of anomalies\n",
    "index = np.where(predictions<0)"
   ]
  },
  {
   "cell_type": "code",
   "execution_count": 29,
   "id": "5a14466e-1c7a-439f-866c-99c59a3411c1",
   "metadata": {},
   "outputs": [
    {
     "data": {
      "text/plain": [
       "(array([  4,  20,  24,  45,  48,  49,  53,  55,  61,  62,  63,  67,  72,\n",
       "         74,  78,  83,  85,  87,  89,  92,  97, 104, 108, 114, 119, 130,\n",
       "        132, 133, 141, 151, 160, 166, 167, 177, 179, 182, 187, 190, 199,\n",
       "        204, 209, 212, 217, 220, 221, 227, 242, 244, 247, 248], dtype=int64),)"
      ]
     },
     "execution_count": 29,
     "metadata": {},
     "output_type": "execute_result"
    }
   ],
   "source": [
    "index"
   ]
  },
  {
   "cell_type": "code",
   "execution_count": 37,
   "id": "2ee2f53f-e6b8-4661-ac0a-79df36bf5b9f",
   "metadata": {},
   "outputs": [
    {
     "data": {
      "text/plain": [
       "<matplotlib.collections.PathCollection at 0x1e8ab28e960>"
      ]
     },
     "execution_count": 37,
     "metadata": {},
     "output_type": "execute_result"
    },
    {
     "data": {
      "image/png": "[encoded data removed]",
      "text/plain": [
       "<Figure size 640x480 with 1 Axes>"
      ]
     },
     "metadata": {},
     "output_type": "display_data"
    }
   ],
   "source": [
    "anomaly_idx = np.where(predictions <0)\n",
    "plt.scatter(df.iloc[:,0], df.iloc[:,1])"
   ]
  },
  {
   "cell_type": "markdown",
   "id": "7503e7c2-85a6-4ccd-82c9-fb3702a382dd",
   "metadata": {},
   "source": [
    "<h4 style=\"color:red\"> edge colors used  to identify the outliers given by index</h4>"
   ]
  },
  {
   "cell_type": "code",
   "execution_count": 51,
   "id": "1a5cea76-6bcd-4c26-b807-ed59dd67d9dd",
   "metadata": {},
   "outputs": [],
   "source": [
    "x = df.values\n"
   ]
  },
  {
   "cell_type": "code",
   "execution_count": 52,
   "id": "8d08df25-036e-448c-8465-68679cd286e9",
   "metadata": {},
   "outputs": [
    {
     "data": {
      "text/plain": [
       "<matplotlib.collections.PathCollection at 0x1e8ab5b6960>"
      ]
     },
     "execution_count": 52,
     "metadata": {},
     "output_type": "execute_result"
    },
    {
     "data": {
      "image/png": "[encoded data removed]",
      "text/plain": [
       "<Figure size 640x480 with 1 Axes>"
      ]
     },
     "metadata": {},
     "output_type": "display_data"
    }
   ],
   "source": [
    "plt.scatter(df.iloc[:,0], df.iloc[:,1])\n",
    "plt.scatter(x[index,0], x[index,1] ,edgecolors = 'r')"
   ]
  },
  {
   "cell_type": "code",
   "execution_count": 54,
   "id": "b7f272af-a93c-4fa4-8354-a25372b057f0",
   "metadata": {},
   "outputs": [
    {
     "data": {
      "text/plain": [
       "[(array([  4,  20,  24,  45,  48,  49,  53,  55,  61,  62,  63,  67,  72,\n",
       "          74,  78,  83,  85,  87,  89,  92,  97, 104, 108, 114, 119, 130,\n",
       "         132, 133, 141, 151, 160, 166, 167, 177, 179, 182, 187, 190, 199,\n",
       "         204, 209, 212, 217, 220, 221, 227, 242, 244, 247, 248], dtype=int64),),\n",
       " 0]"
      ]
     },
     "execution_count": 54,
     "metadata": {},
     "output_type": "execute_result"
    }
   ],
   "source": [
    "[index,0]"
   ]
  },
  {
   "cell_type": "code",
   "execution_count": null,
   "id": "0f57174a-d739-4bc1-80d8-d95d8a684b58",
   "metadata": {},
   "outputs": [],
   "source": []
  },
  {
   "cell_type": "code",
   "execution_count": null,
   "id": "97356859-54ab-4070-aaaf-a1d629a35fc5",
   "metadata": {},
   "outputs": [],
   "source": []
  }
 ],
 "metadata": {
  "kernelspec": {
   "display_name": "Python 3 (ipykernel)",
   "language": "python",
   "name": "python3"
  },
  "language_info": {
   "codemirror_mode": {
    "name": "ipython",
    "version": 3
   },
   "file_extension": ".py",
   "mimetype": "text/x-python",
   "name": "python",
   "nbconvert_exporter": "python",
   "pygments_lexer": "ipython3",
   "version": "3.12.4"
  }
 },
 "nbformat": 4,
 "nbformat_minor": 5
}
